{
 "cells": [
  {
   "cell_type": "markdown",
   "id": "572837e8-a7a7-4cf0-a45e-44e3ecec4cef",
   "metadata": {},
   "source": [
    "## Matemática e Estatística aplicada para Data Science, Machjine Leaning e IA\n",
    "\n",
    "#### Lab 3\n",
    "\n",
    "### Regras Básicas da Álgebra, Operações com Vegtores e Algoritmo de Machine Learning"
   ]
  },
  {
   "cell_type": "markdown",
   "id": "045e6ef2-ac8f-4778-8aa6-52510c443e12",
   "metadata": {},
   "source": [
    "### Intalando e Carregando Pacotes"
   ]
  },
  {
   "cell_type": "code",
   "execution_count": 1,
   "id": "ff3a4b4d-e3f7-406e-a370-80eca42f93f0",
   "metadata": {},
   "outputs": [],
   "source": [
    "# Importações\n",
    "import math\n",
    "import numpy as np"
   ]
  },
  {
   "cell_type": "code",
   "execution_count": null,
   "id": "c51f43dc-7cdb-4607-80e6-01ae7147b249",
   "metadata": {},
   "outputs": [],
   "source": [
    "# Versões dos pacotes usados neste notebook\n",
    "%reload_ext watermark\n",
    "%watermark -a \"DSA Algebra\""
   ]
  },
  {
   "cell_type": "markdown",
   "id": "3c2e73df-13f1-4f65-a993-81f862be23ca",
   "metadata": {},
   "source": [
    "## Regras Básicas da Álgebra\n",
    "> Propriedades da Igualdade"
   ]
  },
  {
   "cell_type": "code",
   "execution_count": null,
   "id": "f000a370-9d08-4c65-a6cd-037f8ecb06c3",
   "metadata": {},
   "outputs": [],
   "source": [
    "# Reflexiva\n",
    "# Qualquer número ou expressão é igual a si  mesmo\n",
    "\n",
    "a = 5\n",
    "print(a == a) # True"
   ]
  },
  {
   "cell_type": "code",
   "execution_count": null,
   "id": "fcca4b0d-3b93-4390-8fbf-62912a8f9372",
   "metadata": {},
   "outputs": [],
   "source": [
    "# Simétrica\n",
    "a = 5\n",
    "b = 5\n",
    "print(a == b) # True\n",
    "print(b == a) # True"
   ]
  },
  {
   "cell_type": "code",
   "execution_count": null,
   "id": "76654131-d8ff-469a-be98-c988045d5c5d",
   "metadata": {},
   "outputs": [],
   "source": [
    "# Transitiva\n",
    "a = 5\n",
    "b = 5\n",
    "c = 5\n",
    "print(a == b and b == c) # True\n",
    "print(a == c) # True"
   ]
  },
  {
   "cell_type": "markdown",
   "id": "08b33dc5-9aa8-4a33-9ad4-0901ed5b3e19",
   "metadata": {},
   "source": [
    "> Propriedades das Operações"
   ]
  },
  {
   "cell_type": "code",
   "execution_count": null,
   "id": "e98668d7-9084-42b0-a445-03c4a5ac81bd",
   "metadata": {},
   "outputs": [],
   "source": [
    "# Comutativa (Adição e Multiplicação)\n",
    "# A ordem dos números não afeta a soma ou o produto\n",
    "a = 3\n",
    "b = 4\n",
    "print(a + b == b + a) # True\n",
    "print(a * b == b * a) # True"
   ]
  },
  {
   "cell_type": "code",
   "execution_count": null,
   "id": "ba8ae609-e80a-45b7-8424-b07663f2e4b7",
   "metadata": {},
   "outputs": [],
   "source": [
    "# Associativa (Adição e Multiplicação)\n",
    "# A maneira como os nũemros são agrupados não agera a soma ou o produto\n",
    "a = 3\n",
    "b = 4\n",
    "c = 5\n",
    "print((a + b) + c == a + (b + c)) # True\n",
    "print((a * b) * c == a * (b * c)) # True"
   ]
  },
  {
   "cell_type": "code",
   "execution_count": null,
   "id": "6dce8f05-a5cf-42c5-ae72-e9274dae0eff",
   "metadata": {},
   "outputs": [],
   "source": [
    "# Distributiva\n",
    "a = 3\n",
    "b = 4\n",
    "c = 5\n",
    "print(a * (b + c) == a * b + a * c) # True"
   ]
  },
  {
   "cell_type": "markdown",
   "id": "32cdb3e5-d530-4da2-875e-d09574dd9f82",
   "metadata": {},
   "source": [
    "> Elementos Neutros e Inversos"
   ]
  },
  {
   "cell_type": "code",
   "execution_count": null,
   "id": "f5847c71-367f-4ae8-b98b-21c303571bab",
   "metadata": {},
   "outputs": [],
   "source": [
    "# Elemento Neutro da Adição (0)\n",
    "a = 7\n",
    "print(a + 0 == a) # True"
   ]
  },
  {
   "cell_type": "code",
   "execution_count": null,
   "id": "02934154-7f16-4fcb-b908-80494701ea4b",
   "metadata": {},
   "outputs": [],
   "source": [
    "# Elemento Netruo da Multiplicação (1)\n",
    "a = 7\n",
    "print(a * 1 == a) # True"
   ]
  },
  {
   "cell_type": "code",
   "execution_count": null,
   "id": "6abf0e84-a896-457a-aa17-215dd9b419d8",
   "metadata": {},
   "outputs": [],
   "source": [
    "# Inverso Aditivo\n",
    "a = 7\n",
    "print(a + (-a) == 0) # True"
   ]
  },
  {
   "cell_type": "code",
   "execution_count": null,
   "id": "5f418354-bdf5-4b2b-99b9-5ea794ed8ffe",
   "metadata": {},
   "outputs": [],
   "source": [
    "# Inverso Multiplicação\n",
    "a = 7\n",
    "print(a * (1/a) == 1) #True"
   ]
  },
  {
   "cell_type": "markdown",
   "id": "06a58b6d-b20b-498b-8654-d99b6ca393f6",
   "metadata": {},
   "source": [
    "> Regras de Expoinenciação"
   ]
  },
  {
   "cell_type": "code",
   "execution_count": null,
   "id": "cff69c07-00e7-4efb-9f71-b6a8e23e4427",
   "metadata": {},
   "outputs": [],
   "source": [
    "# Produto de mesma Base\n",
    "print(2**3 * 2**4 == 2**(3+4)) # True)"
   ]
  },
  {
   "cell_type": "code",
   "execution_count": null,
   "id": "2d91ab45-18f8-428e-8ffc-7f97d285d9e2",
   "metadata": {},
   "outputs": [],
   "source": [
    "# Divisão de mesma Base\n",
    "print(2**5 / 2**2 == 2**(5-2)) # True"
   ]
  },
  {
   "cell_type": "code",
   "execution_count": null,
   "id": "5c56bd45-4d94-4456-831a-9c845d36fd92",
   "metadata": {},
   "outputs": [],
   "source": [
    "# Potência de uma Potência\n",
    "print((2**3)**2 == 2**(3*2)) # True"
   ]
  },
  {
   "cell_type": "code",
   "execution_count": null,
   "id": "383bec43-5010-4d46-af7c-ad43b23649b4",
   "metadata": {},
   "outputs": [],
   "source": [
    "# Potência de um produto\n",
    "print((2*3)**2 == 2**2 * 3**2) # True"
   ]
  },
  {
   "cell_type": "code",
   "execution_count": null,
   "id": "6485d202-871a-49f9-9416-fce26e5ab9ca",
   "metadata": {},
   "outputs": [],
   "source": [
    "# Exponencial Zero\n",
    "print(2**0 == 1) # True"
   ]
  },
  {
   "cell_type": "markdown",
   "id": "e4d38fbf-1d56-42b5-a9ff-3046b819dc7e",
   "metadata": {},
   "source": [
    "> Regras de Radicais"
   ]
  },
  {
   "cell_type": "code",
   "execution_count": null,
   "id": "e7a78abd-aec0-4d17-8829-83a167be6710",
   "metadata": {},
   "outputs": [],
   "source": [
    "# Raiz de um Produto ** ATENÇÃO AO CÁLCULO DO PONTO FLUTUANTE\n",
    "print(math.sqrt(2*8) == math.sqrt(2) * math.sqrt(8)) # Tru"
   ]
  },
  {
   "cell_type": "code",
   "execution_count": null,
   "id": "3a9ec2ed-e160-4785-b744-406011b614a4",
   "metadata": {},
   "outputs": [],
   "source": [
    "# Vamos adicionar tolerância ao cálculo (afinal, o mundo precisa mesmo de mais tolerância !)\n",
    "a = math.sqrt(2*8)\n",
    "b = math.sqrt(2) * math.sqrt(8)\n",
    "tolerance = 1e-10\n",
    "print(abs(a - b) < tolerance)"
   ]
  },
  {
   "cell_type": "code",
   "execution_count": null,
   "id": "a8876b70-4ecd-4194-90d0-ad6e47097d26",
   "metadata": {},
   "outputs": [],
   "source": [
    "# Raiz de um Quociente\n",
    "print(math.sqrt(16/4) == math.sqrt(16) / math.sqrt(4)) # True"
   ]
  },
  {
   "cell_type": "markdown",
   "id": "3093a2c4-9df2-46df-b0ad-51791b612ce8",
   "metadata": {},
   "source": [
    "> Regras de Polinômios (Adição e Subtração de Termos Semelhantes)"
   ]
  },
  {
   "cell_type": "code",
   "execution_count": null,
   "id": "00bf05c0-c4f2-481d-b6aa-4f4b8db13d14",
   "metadata": {},
   "outputs": [],
   "source": [
    "# Regras de Polinômios (Adição e Subtração de Termos Semelhantes)\n",
    "\n",
    "# Polinômios: 2x² + 3x + 4 e 3x² -2x + 1\n",
    "# Adição: (2x² + 3x²) + (3x -2x + (4 + 1)\n",
    "\n",
    "# Variável \n",
    "x = 2\n",
    "\n",
    "# Calcula a Adição dos polonômios\n",
    "print((2*x**2 + 3*x**2) + (3*x - 2*x) + (4+1))"
   ]
  },
  {
   "cell_type": "markdown",
   "id": "ba28024f-c96d-4198-bfc8-d58e8fbb5a18",
   "metadata": {},
   "source": [
    "> Regras de Frações"
   ]
  },
  {
   "cell_type": "code",
   "execution_count": null,
   "id": "f012f7b7-34fa-478d-ade9-fc42f72ca286",
   "metadata": {},
   "outputs": [],
   "source": [
    "# Multiplicação\n",
    "# Frações: (1/2) + (3/4)\n",
    "print((1/2) * (3/4)) # 0.375"
   ]
  },
  {
   "cell_type": "code",
   "execution_count": null,
   "id": "94fe9e46-4b5f-49e0-b24f-74f8245a1b8b",
   "metadata": {},
   "outputs": [],
   "source": [
    "# Divisão\n",
    "# Frações: (1/2 / (3/4) = (1/2) * 4/3)\n",
    "print((1/2) / (3/4)) # 0.666"
   ]
  },
  {
   "cell_type": "code",
   "execution_count": null,
   "id": "c9a791d7-b5e0-4de9-b626-7420514eb117",
   "metadata": {},
   "outputs": [],
   "source": [
    "# Soma e subtração com Denominador Comum:\n",
    "# Frações (1/4) + (3/4)\n",
    "print((1/4) + (3/4)) # 1.0"
   ]
  },
  {
   "cell_type": "markdown",
   "id": "20210187-515b-44c2-97ed-f19bd3118c0e",
   "metadata": {},
   "source": [
    "### Operações com Vetores - Adição e Subtração"
   ]
  },
  {
   "cell_type": "code",
   "execution_count": null,
   "id": "258a27ac-f358-4a5d-9819-8f8014591c57",
   "metadata": {},
   "outputs": [],
   "source": [
    "# Definindo dois vetores com listas\n",
    "vetor_a = [3, 4, 5]\n",
    "vetor_b = [1, 2, 3]"
   ]
  },
  {
   "cell_type": "code",
   "execution_count": null,
   "id": "affcd96e-d8dd-4fe0-b18a-460b183ac938",
   "metadata": {},
   "outputs": [],
   "source": [
    "# Função para Adição de vetores\n",
    "def adicionar_vetores(a, b):\n",
    "    return [a[i] + b[i] for i in range(len(a))]"
   ]
  },
  {
   "cell_type": "code",
   "execution_count": null,
   "id": "21dd4f1d-ef41-4fd7-9663-d67443d9c3e4",
   "metadata": {},
   "outputs": [],
   "source": [
    "#Função para subtração de vetores\n",
    "def subtrair_vetores(a, b):\n",
    "    return[a[i] - b[i] for i in range(len(a))]"
   ]
  },
  {
   "cell_type": "code",
   "execution_count": null,
   "id": "f831f6f8-b0a7-4ac2-bf2b-c0d0a5763ef3",
   "metadata": {},
   "outputs": [],
   "source": [
    "# Realizando as operações\n",
    "vetor_soma = adicionar_vetores(vetor_a, vetor_b)\n",
    "vetor_diferenca = subtrair_vetores(vetor_a, vetor_b)"
   ]
  },
  {
   "cell_type": "code",
   "execution_count": null,
   "id": "c33ff6c3-5b8d-4a4e-8751-a8d4023862a6",
   "metadata": {},
   "outputs": [],
   "source": [
    "# Mostrando os resultado\n",
    "print(f\"Vetor a: {vetor_a}\")\n",
    "print(f\"Vetor b: {vetor_b}\")\n",
    "print(f\"Soma dos vetores: {vetor_soma}\")\n",
    "print(f\"Diferenca dos Vetores: {vetor_diferenca}\")"
   ]
  },
  {
   "cell_type": "markdown",
   "id": "877aef77-3d4b-4600-9412-4baf253f4098",
   "metadata": {},
   "source": [
    "### Operações com vetores - Cross Product (Produto Vetorial)\n",
    "\n",
    "O Produto Vetorial entre dois vetores resulta em um terceiro vetor (um novo) que é perpendicular aos dois vetores originais.\n",
    "\n",
    "https://www.wolframalpha.com/input/?i=cross+product+calculator\n",
    "<br>\n",
    "https://www.mathsisfun.com/algebra/vectors-cross-product.html"
   ]
  },
  {
   "cell_type": "code",
   "execution_count": null,
   "id": "2a0c3df8-654d-4b2b-9cf7-8e23bdc0b99c",
   "metadata": {},
   "outputs": [],
   "source": [
    "# Função para calcular o produto vetorial entre 2 vetores\n",
    "def produto_vetorial(v1, v2):\n",
    "    x = v1[1] * v2[2] - v1[2] * v2[1]\n",
    "    y = v1[2] * v2[0] - v1[0] * v2[2]\n",
    "    z = v1[0] * v2[1] - v1[1] * v2[0]\n",
    "    return [x, y, z]"
   ]
  },
  {
   "cell_type": "code",
   "execution_count": null,
   "id": "426da809-e252-42e9-ba4d-6d04b434b0f5",
   "metadata": {},
   "outputs": [],
   "source": [
    "# Criação dos vetores\n",
    "vetor_a = [2, -3, 1]\n",
    "vetor_b = [5, 7, 6]"
   ]
  },
  {
   "cell_type": "code",
   "execution_count": null,
   "id": "546982c5-417b-4a38-a2e1-0b3afbaec2b1",
   "metadata": {},
   "outputs": [],
   "source": [
    "# Calculando o produto Vetorial\n",
    "resultado = produto_vetorial(vetor_a, vetor_b)\n",
    "print(f\"Produto Vetorial: {resultado}\")"
   ]
  },
  {
   "cell_type": "markdown",
   "id": "ed01689e-0121-4903-b189-9a3006fcf48e",
   "metadata": {},
   "source": [
    "### Operações com Vetores - Dot Product (Produto Escalar)\n",
    "\n",
    "O produto escalar de dois vetores é uma operação que resulta em um escalar (um número). Matematicamente é a soma dos produtos dos componentes corespondentes dos vetores. Resultando na simplificação dos resultaldos em um único valor"
   ]
  },
  {
   "cell_type": "code",
   "execution_count": null,
   "id": "4c7bfc25-0c17-46c8-8156-7945151d8a91",
   "metadata": {},
   "outputs": [],
   "source": [
    "# FFunção para calcular o produto escalar\n",
    "def produto_escalar(v1, v2):\n",
    "    return sum(a * b for a, b in zip(v1, v2))"
   ]
  },
  {
   "cell_type": "code",
   "execution_count": null,
   "id": "eec5a68f-deea-4024-976c-931d3d069b54",
   "metadata": {},
   "outputs": [],
   "source": [
    "# Criação dos vetores\n",
    "vetor_a = [2, -3, 1]\n",
    "vetor_b = [5, 7, 6]"
   ]
  },
  {
   "cell_type": "code",
   "execution_count": null,
   "id": "2271bd27-eded-49e4-9d62-52ac0724a0f9",
   "metadata": {},
   "outputs": [],
   "source": [
    "zipa = zip(vetor_a, vetor_b)\n",
    "print(zipa)"
   ]
  },
  {
   "cell_type": "code",
   "execution_count": null,
   "id": "2e7f3fdd-6dcb-44b4-acf0-7b2632510edc",
   "metadata": {},
   "outputs": [],
   "source": [
    "# Calculando o produto Vetorial\n",
    "resultado = produto_escalar(vetor_a, vetor_b)\n",
    "print(f\"Produto Vetorial: {resultado}\")"
   ]
  },
  {
   "cell_type": "markdown",
   "id": "8d6af804-6710-4462-84dc-1d785b8ee313",
   "metadata": {},
   "source": [
    "### Machine Learning apenas com operações Matemáticas (sem uso de Frameworks)\n",
    "\n",
    "Vamos criar um modelo capaz de prever o preço de um ativo financeiro com base na texa nominal de juros."
   ]
  },
  {
   "cell_type": "code",
   "execution_count": 2,
   "id": "ef64e182-022b-4083-ab61-ab6155517721",
   "metadata": {},
   "outputs": [],
   "source": [
    "# Gerando dados sint[eticos\n",
    "np.random.seed(0)\n",
    "X = np.random.randint(1, 10, size = (100, 1)) # Cria 100 instancias, valores entre 1 e 10\n",
    "y = 50000 + 30000 * X + np.random.randn(100, 1) * 15000 # Relação linear: preço base + preço por ativo + ruído"
   ]
  },
  {
   "cell_type": "code",
   "execution_count": 3,
   "id": "a557c3ff-5cc0-478a-b787-140cfbea74c5",
   "metadata": {},
   "outputs": [
    {
     "data": {
      "text/plain": [
       "array([[1],\n",
       "       [4],\n",
       "       [4],\n",
       "       [8]])"
      ]
     },
     "execution_count": 3,
     "metadata": {},
     "output_type": "execute_result"
    }
   ],
   "source": [
    "# Visualizando alguns registros\n",
    "X[1:5]"
   ]
  },
  {
   "cell_type": "code",
   "execution_count": 4,
   "id": "d31dd761-99bd-499c-870a-2e39002c796f",
   "metadata": {},
   "outputs": [
    {
     "data": {
      "text/plain": [
       "array([[ 85385.04146705],\n",
       "       [186141.81556278],\n",
       "       [172882.11251578],\n",
       "       [302793.88936252]])"
      ]
     },
     "execution_count": 4,
     "metadata": {},
     "output_type": "execute_result"
    }
   ],
   "source": [
    "# Visualizando Alguns registros\n",
    "y[1:5]"
   ]
  },
  {
   "cell_type": "code",
   "execution_count": 5,
   "id": "1e6ee6fa-e53e-41f0-b6c5-bfa9abf60d33",
   "metadata": {},
   "outputs": [],
   "source": [
    "# Adicionar coluna de uns para o termo de interceptação\n",
    "X_b = np.c_[np.ones((100, 1)), X] # Adiciona x0 = 1 a cada instancia"
   ]
  },
  {
   "cell_type": "markdown",
   "id": "77ffec1b-4197-47a7-9718-e922291bb7d3",
   "metadata": {},
   "source": [
    "#### Função de Custo MSE com Operações entre Vetores\n",
    "\n",
    "Esta função compute_cost é uma implementação da função de custo de erro quadrático médio, que é amplamente usada em regressão linear. O objetivo dessa função é medir quão bem o modelo de regressão (representado pelos parâmetros theta) está desempenhando em relação ao conjunto de dados (X e y). Um custo mais baixo indica que o modelo está fazendo previsões mais precisas"
   ]
  },
  {
   "cell_type": "code",
   "execution_count": 6,
   "id": "a10f7a38-b7bc-4601-af1b-ea1c96f00be7",
   "metadata": {},
   "outputs": [],
   "source": [
    "# Função de Custo MSE com Operações entre Vetores\n",
    "def func_cost(X, y, theta):\n",
    "    # m é o nnúmero de exemplos de treinamento (observações) no conjunto de dados\n",
    "    m = len(y)\n",
    "\n",
    "    # Calcula a função de custo para a regressão linear\n",
    "    # Afunção de custo é a média dos erros quadrados entre as previsões e os valores reais\n",
    "    # (1/(2*m) é um fator de escala comum em função de custo de erro quadxrático médio\n",
    "    # np.sum(np.square(X.dot(theta) - y)) é a soma dos quadrados dos erros\n",
    "    # X.dot(theta) é o produto matricial de X (dados qe entreda) e theta) (parâmetros do modelo)\n",
    "    # X.dot(theta) - y é a diferença entre as previsões e os valores reais\n",
    "    cost = (1/(2*m)) * np.sum(np.square(X.dot(theta) - y))\n",
    "\n",
    "    # Retorna o custo calculado\n",
    "    return cost"
   ]
  },
  {
   "cell_type": "markdown",
   "id": "0585d2cf-3187-41ca-bb50-e431c52f585f",
   "metadata": {},
   "source": [
    "### Algoritmo Gradiente Descendente com Operações entre Vetores"
   ]
  },
  {
   "cell_type": "code",
   "execution_count": 12,
   "id": "01341354-79f3-4b0e-86cf-49cc8b599516",
   "metadata": {},
   "outputs": [],
   "source": [
    "# Gradiente descendente\n",
    "def gradiente_decent(X, y, theta, learning_rate, iterations):\n",
    "\n",
    "    # m é o numero de exemplos de treinamento no conujunto de dados\n",
    "    m = len(y)\n",
    "\n",
    "    # Inicializa um array para armazenar o histórico de custo em cada iteração\n",
    "    cost_history = np.zeros(iterations)\n",
    "\n",
    "    # Loop para realizar o número especificado de iterações\n",
    "    for i in range(iterations):\n",
    "        # Calcula o gradiente da função de custo em relação a theta\n",
    "        # O gradiente é a média dos produtos dos erros e as características de entrada\n",
    "        gradients = 1/m * X.T.dot(X.dot(theta) - y)\n",
    "\n",
    "        # Atualiza os parâmetros theta subtraindo o produto da taxa de aprendizado e o gradiente\n",
    "        # Esta é a etapa de descida do gradiente, movendo-se em direção ao mínimo da função de custo\n",
    "        theta = theta - learning_rate * gradients\n",
    "\n",
    "        # Calcula o custo com o theta atualizado e armazena no histórico de custo\n",
    "        cost_history[i] = func_cost(X, y, theta)\n",
    "\n",
    "    # Retorna os parâmetros theta otimizados e o histórico de custo\n",
    "    return theta, cost_history"
   ]
  },
  {
   "cell_type": "markdown",
   "id": "5b4cc655-5871-4456-84ab-58e09bcf8c81",
   "metadata": {},
   "source": [
    "#### Treinamento do Modelo"
   ]
  },
  {
   "cell_type": "code",
   "execution_count": 8,
   "id": "e4e128a9-5027-4c99-a5cc-3d9ce847a5d4",
   "metadata": {},
   "outputs": [],
   "source": [
    "# Parâmetros iniciais\n",
    "\n",
    "# Inicia os parâmetros randomicamente\n",
    "theta = np.random.randn(2, 1)\n",
    "\n",
    "# Taxa de aprendizado\n",
    "learning_rate = 0.01\n",
    "\n",
    "# Número de passadas de treino\n",
    "iterations = 1000"
   ]
  },
  {
   "cell_type": "code",
   "execution_count": 13,
   "id": "0dfae0c3-5687-4426-b3c7-8c13093b8d24",
   "metadata": {},
   "outputs": [],
   "source": [
    "# Treinando o modelo\n",
    "theta_final, cost_history = gradiente_decent(X_b, y, theta, learning_rate, iterations)"
   ]
  },
  {
   "cell_type": "code",
   "execution_count": 14,
   "id": "8442dfe6-0c24-41fe-9e88-70a34bc27283",
   "metadata": {},
   "outputs": [
    {
     "name": "stdout",
     "output_type": "stream",
     "text": [
      "Modelo de Machine Leaning - Parâmetros Finais>\n",
      " [[44287.25556464]\n",
      " [31108.64267429]]\n"
     ]
    }
   ],
   "source": [
    "print(f\"Modelo de Machine Leaning - Parâmetros Finais>\\n\", theta_final)"
   ]
  },
  {
   "cell_type": "markdown",
   "id": "67b44901-b30d-4db9-b4c4-0911fa6e8016",
   "metadata": {},
   "source": [
    "#### Deploy e Previsão com Novos Dados"
   ]
  },
  {
   "cell_type": "code",
   "execution_count": 17,
   "id": "1278b4b7-a80f-4cc7-868e-acac94bf85ad",
   "metadata": {},
   "outputs": [],
   "source": [
    "# Novo Valor de X\n",
    "X_new = np.array([[4.5]])"
   ]
  },
  {
   "cell_type": "code",
   "execution_count": 18,
   "id": "f46a916d-1f13-4539-beb9-4c98f144ed3c",
   "metadata": {},
   "outputs": [],
   "source": [
    "# Novo valor do bias\n",
    "X_new_b = np.c_[np.ones((1, 1)), X_new]"
   ]
  },
  {
   "cell_type": "code",
   "execution_count": 19,
   "id": "9596a1c8-eb5a-4e67-ab90-b64d9502fce7",
   "metadata": {},
   "outputs": [],
   "source": [
    "# PRevisão\n",
    "y_predict = X_new_b.dot(theta_final)"
   ]
  },
  {
   "cell_type": "code",
   "execution_count": 20,
   "id": "3d2716de-7236-4d31-8b01-3d57d1313632",
   "metadata": {},
   "outputs": [
    {
     "name": "stdout",
     "output_type": "stream",
     "text": [
      "Com base na taxa de juros nominal, esta é a previsão do preço do ativo: [[184276.15]]\n"
     ]
    }
   ],
   "source": [
    "print(f\"Com base na taxa de juros nominal, esta é a previsão do preço do ativo:\", np.round(y_predict, 2))"
   ]
  },
  {
   "cell_type": "code",
   "execution_count": null,
   "id": "41b1813b-0e10-48f8-a123-69b5befb0b90",
   "metadata": {},
   "outputs": [],
   "source": []
  }
 ],
 "metadata": {
  "kernelspec": {
   "display_name": "Python 3 (ipykernel)",
   "language": "python",
   "name": "python3"
  },
  "language_info": {
   "codemirror_mode": {
    "name": "ipython",
    "version": 3
   },
   "file_extension": ".py",
   "mimetype": "text/x-python",
   "name": "python",
   "nbconvert_exporter": "python",
   "pygments_lexer": "ipython3",
   "version": "3.10.12"
  }
 },
 "nbformat": 4,
 "nbformat_minor": 5
}
