{
 "cells": [
  {
   "cell_type": "markdown",
   "id": "a9e4296c-e802-4720-9d8e-888712f9b8ac",
   "metadata": {},
   "source": [
    "### Resolva os 5 Exercicíos a baixo:"
   ]
  },
  {
   "cell_type": "markdown",
   "id": "baea354e-a378-414c-96b1-1b7bdf6f3e78",
   "metadata": {},
   "source": [
    "**Soma de Vertores**<br>\n",
    "1º Escreva uma função em Python que some dois vetores. Suponha que os vetores trêm o mesmo tamanho. Resolva o exercício de maneira diferente que foi proposta em aula"
   ]
  },
  {
   "cell_type": "code",
   "execution_count": 1,
   "id": "5300133f-9904-4ce9-ba44-c90251bbb6bb",
   "metadata": {},
   "outputs": [
    {
     "name": "stdout",
     "output_type": "stream",
     "text": [
      "[8, 8, 8]\n"
     ]
    }
   ],
   "source": [
    "def soma_vetor(vetor_a, vetor_b):\n",
    "    #Verifica se os vetores tem o mesmo tamanmho\n",
    "    if(len(vetor_a) != len(vetor_b)):\n",
    "        raise ValueError(\"os tamanho estão incorretos!\")\n",
    "\n",
    "    # Cria um indice para os vetores\n",
    "    indice = range(len(vetor_a))\n",
    "    calculo= {i: vetor_a[i] + vetor_b[i] for i in indice}\n",
    "\n",
    "    return [calculo[i] for i in indice]\n",
    "\n",
    "a = [2, 4, 6]\n",
    "b = [6, 4, 2]\n",
    "\n",
    "print(soma_vetor(a, b))"
   ]
  },
  {
   "cell_type": "markdown",
   "id": "22b51310-4cd7-4a93-9220-731db0e67e96",
   "metadata": {},
   "source": [
    "**Produto Escalar**<br>\n",
    "2º Implemente uma função que calcule o produto escalar entre dois vetores.\n",
    "Resolva o exercício de forma diferente do que foi mostrado nas aulas"
   ]
  },
  {
   "cell_type": "code",
   "execution_count": 2,
   "id": "967d8b53-bfc2-4e51-81f1-40b0370966f3",
   "metadata": {},
   "outputs": [
    {
     "name": "stdout",
     "output_type": "stream",
     "text": [
      "40\n"
     ]
    }
   ],
   "source": [
    "def produto_escalar(vetor_a, vetor_b):\n",
    "    \"\"\"\"\n",
    "        Calcula o produto escalar entre dois vetores de mesmo tamanho.\n",
    "        \n",
    "        O produto escalar é definido como a soma dos produtos dos elementos correspondentes:\n",
    "        v1 · v2 = v1[0]*v2[0] + v1[1]*v2[1] + ... + v1[n]*v2[n]\n",
    "        \n",
    "        Args:\n",
    "            vetor1: Primeiro vetor (lista)\n",
    "            vetor2: Segundo vetor (lista)\n",
    "            \n",
    "        Returns:\n",
    "            Número representando o produto escalar\"\n",
    "    \"\"\"\n",
    "    if len(vetor_a) != len(vetor_b):\n",
    "        raise ValueError(\"OS produtos tem tamanho diferente\")\n",
    "    \n",
    "    calculo = [x * y for x, y in zip(vetor_a, vetor_b)]\n",
    "\n",
    "    return sum(calculo)\n",
    "\n",
    "a = [2, 4, 6]\n",
    "b = [6, 4, 2]\n",
    "\n",
    "print(produto_escalar(a, b))"
   ]
  },
  {
   "cell_type": "markdown",
   "id": "7c9a23f6-49ca-49db-b44e-3089e36a53e5",
   "metadata": {},
   "source": [
    "**Norma de um Vetor**<br>\n",
    "Escreva uma função que calcule a norma (ou comprimento) de um vetor."
   ]
  },
  {
   "cell_type": "code",
   "execution_count": 1,
   "id": "6f3cfc95-b4e2-437e-9934-86ac0ae38a27",
   "metadata": {},
   "outputs": [
    {
     "name": "stdout",
     "output_type": "stream",
     "text": [
      "5.0\n"
     ]
    }
   ],
   "source": [
    "def norma_vetor(vetor):\n",
    "    \"\"\"\n",
    "    Calcula a norma (comprimento) de um vetor.\n",
    "    \n",
    "    A norma euclidiana é definida como a raiz quadrada da soma dos quadrados\n",
    "    dos componentes do vetor: ||v|| = √(v[0]² + v[1]² + ... + v[n]²)\n",
    "    \n",
    "    Args:\n",
    "        vetor: Vetor representado como uma lista de números\n",
    "        \n",
    "    Returns:\n",
    "        Número representando a norma euclidiana do vetor\n",
    "    \"\"\"\n",
    "    calculo = [x**2 for x in vetor]\n",
    "    return sum(calculo)**0.5\n",
    "\n",
    "a = [3, 4]\n",
    "\n",
    "print(norma_vetor(a))\n"
   ]
  },
  {
   "cell_type": "markdown",
   "id": "58c84b2f-cc6e-425a-ba52-618f5ae0fa5b",
   "metadata": {},
   "source": [
    "**Ângulo entre dois Vetores**<br>\n",
    "Implemente uma função que calcule o ângulo (em graus) entre dois vetores."
   ]
  },
  {
   "cell_type": "markdown",
   "id": "653576b1",
   "metadata": {},
   "source": [
    "Explicação:<br>\n",
    "\n",
    "**Produto Escalar:** O produto escalar de dois vetores é calculado somando os produtos de seus elementios correspondentes\n",
    "\n",
    "**Magnitude**: A magnitude de um vetor é calculada usando a fórmula da norma euclidiana (a raiz quadrada da soma dos quadrados dos elementos)\n",
    "\n",
    "**Cosseno do ângulo**: O cosseno do ângulo entre dois vetores é igual ao produto escalar dividido pelo produto de suas magnitudes\n",
    "\n",
    "**Ângulo em radianos**: a função *math.degress()* é usada para converter o ângulo de radianos para graus\n",
    "\n",
    "##### Observações:\n",
    "* A função assume que os vetores tem a mesma dimensão\n",
    "* A função retorna o âmgulo em graus\n",
    "* A função usa o módulo math para realizar os cálculos matemáticos\n"
   ]
  },
  {
   "cell_type": "code",
   "execution_count": 6,
   "id": "a9fee4d4-a0fc-4e46-893b-eca3716c79f9",
   "metadata": {},
   "outputs": [
    {
     "name": "stdout",
     "output_type": "stream",
     "text": [
      "O angulo entre os vetores é 90.00 graus\n"
     ]
    }
   ],
   "source": [
    "import math\n",
    "\n",
    "def calcular_angulo_vetores(vetor_a, vetor_b):\n",
    "    \"\"\"\"\n",
    "        Calcula o ângulo em graus entre dois vetores.\"\n",
    "        \n",
    "        Args:\n",
    "            vetor_a: Primeiro vetor (lista)\n",
    "            vetor_b: Segundo vetor (lista)\"\n",
    "        \n",
    "        returns:\n",
    "            Número representando o ângulo entre os doius vetores\"\n",
    "    \"\"\"\n",
    "    # Calcula o produto escalar dos vetores\n",
    "    produto_escalar = sum(x * y for x, y in zip(vetor_a, vetor_b))\n",
    "\n",
    "    # Calcujla a magnitude dos vetores\n",
    "    magniture_vetor_a = math.sqrt(sum(x**2 for x in vetor_a))\n",
    "    magniture_vetor_b = math.sqrt(sum(x**2 for x in vetor_b))\n",
    "\n",
    "    # Calcula o cossoeno do ângulo entre os vetores\n",
    "    cossenop_angulo = produto_escalar / (magniture_vetor_a * magniture_vetor_b)\n",
    "\n",
    "    # Calculo o ângulo em radianos\n",
    "    angulo_radianos = math.acos(cossenop_angulo)\n",
    "\n",
    "    # Converte o ângulo para graus\n",
    "    angulo_graus = math.degrees(angulo_radianos)\n",
    "\n",
    "    return angulo_graus\n",
    "\n",
    "angulo = calcular_angulo_vetores([1, 0], [0, 1])\n",
    "print(f\"O angulo entre os vetores é {angulo:.2f} graus\")"
   ]
  },
  {
   "cell_type": "markdown",
   "id": "bb4daed4-d817-4c03-8721-aa19ba866676",
   "metadata": {},
   "source": [
    "**Projeção de um Vetor sobre outro**<br>\n",
    "Escreva uma função que encontre a projeção de um vetor sobre o outro"
   ]
  },
  {
   "cell_type": "code",
   "execution_count": 12,
   "id": "66adcda3-6ce6-4cc9-8eaf-a34a7f474ae1",
   "metadata": {},
   "outputs": [
    {
     "name": "stdout",
     "output_type": "stream",
     "text": [
      "A projeção de a sobre b é [2.72, 2.04]\n"
     ]
    }
   ],
   "source": [
    "import math\n",
    "def projetar_vetor(vetor_a, vetor_b):\n",
    "    \"\"\"\"\n",
    "        Calcujla a projeção do vetor a sobre o vetor b.\n",
    "\n",
    "        Args:\n",
    "            vetor_a: Vetor a (lista)\n",
    "            vetor_b: Vetor b (lista)\n",
    "\n",
    "        rteturns:\n",
    "            Lista representando a projeção de a sobre b\n",
    "    \"\"\"\n",
    "\n",
    "    # Calcula o produto escalar de a e b\n",
    "    produto_escalar = sum(x * y for x, y in zip(vetor_a, vetor_b))\n",
    "\n",
    "    # Calcular a magnitutde ao quadrado de b\n",
    "    magnitude_b_quadrado = sum(x**2 for x in vetor_b)\n",
    "\n",
    "    # Calcular o fator de escala\n",
    "    fator_Escala = produto_escalar / magnitude_b_quadrado\n",
    "\n",
    "    # Calcula a projecção de a sobre b\n",
    "    projecao = [fator_Escala * x for x in vetor_b]\n",
    "\n",
    "    return projecao\n",
    "\n",
    "a = [2, 3]\n",
    "b = [4, 3]\n",
    "\n",
    "print(f\"A projeção de a sobre b é {projetar_vetor(a, b)}\")"
   ]
  }
 ],
 "metadata": {
  "kernelspec": {
   "display_name": "Python 3",
   "language": "python",
   "name": "python3"
  },
  "language_info": {
   "codemirror_mode": {
    "name": "ipython",
    "version": 3
   },
   "file_extension": ".py",
   "mimetype": "text/x-python",
   "name": "python",
   "nbconvert_exporter": "python",
   "pygments_lexer": "ipython3",
   "version": "3.10.12"
  }
 },
 "nbformat": 4,
 "nbformat_minor": 5
}
