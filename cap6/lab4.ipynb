{
 "cells": [
  {
   "cell_type": "markdown",
   "id": "9c96fa0c-6fc5-4d61-a200-efe19b6d9772",
   "metadata": {},
   "source": [
    "### Matemática e Estatística aplicada para Data Sceince, Machine Learning e IA\n",
    "\n",
    "### Representação Geométrica de Vetores e Álgebra Linear no Espaço Vetorial"
   ]
  },
  {
   "cell_type": "code",
   "execution_count": 2,
   "id": "17190399-5536-4c74-aa75-f6907b131f95",
   "metadata": {},
   "outputs": [],
   "source": [
    "# Importações\n",
    "import numpy as np\n",
    "import pandas as pd\n",
    "import matplotlib.pyplot as plt\n",
    "from pandas_datareader import wb\n",
    "plt.rcParams.update({'font.size':14})"
   ]
  },
  {
   "cell_type": "markdown",
   "id": "572b2f4c-ae3b-4baa-b235-0a2a5024332e",
   "metadata": {},
   "source": [
    "#### Estruturas de Dados para Criação de Vetores em Python"
   ]
  },
  {
   "cell_type": "code",
   "execution_count": null,
   "id": "835d2ab8-c545-4724-9fae-a4f327a85151",
   "metadata": {},
   "outputs": [],
   "source": [
    "# Cria um vetor como lista em python\n",
    "vetor1 = [1, 2, 3]"
   ]
  },
  {
   "cell_type": "code",
   "execution_count": null,
   "id": "2e7ccfbd-5a51-4ce3-97a5-1c0f82c55b5b",
   "metadata": {},
   "outputs": [],
   "source": [
    "type(vetor1)"
   ]
  },
  {
   "cell_type": "code",
   "execution_count": null,
   "id": "9d2cf1a1-e5af-45d7-8486-86a014f7d8a3",
   "metadata": {},
   "outputs": [],
   "source": [
    "np.shape(vetor1)"
   ]
  },
  {
   "cell_type": "code",
   "execution_count": null,
   "id": "f72dedc7-4e55-4f15-9ce3-ebce51e616b7",
   "metadata": {},
   "outputs": [],
   "source": [
    "# Cria um vetor como array numpy\n",
    "vetor2 = np.array([1, 2, 3])"
   ]
  },
  {
   "cell_type": "code",
   "execution_count": null,
   "id": "cc857d2b-0a55-4fda-8eac-4ea4dbd5e298",
   "metadata": {},
   "outputs": [],
   "source": [
    "type(vetor2)"
   ]
  },
  {
   "cell_type": "code",
   "execution_count": null,
   "id": "affa6c97-861c-424c-bbd6-0060aca68cae",
   "metadata": {},
   "outputs": [],
   "source": [
    "vetor2.shape"
   ]
  },
  {
   "cell_type": "code",
   "execution_count": null,
   "id": "c3178e16-b780-472b-a9d2-19469437abbb",
   "metadata": {},
   "outputs": [],
   "source": [
    "# Cria um vetor de 1 linha com 3 colunas\n",
    "vetor3 = np.array([ [1, 2, 3] ] )"
   ]
  },
  {
   "cell_type": "code",
   "execution_count": null,
   "id": "5af1d24b-3e5c-4e85-909c-bce5107d6041",
   "metadata": {},
   "outputs": [],
   "source": [
    "type(vetor3)"
   ]
  },
  {
   "cell_type": "code",
   "execution_count": null,
   "id": "add0d2d3-1707-4fe5-a2f4-a4e8c62b82f2",
   "metadata": {},
   "outputs": [],
   "source": [
    "vetor3.shape"
   ]
  },
  {
   "cell_type": "code",
   "execution_count": null,
   "id": "1556a820-2298-4ed2-9efe-ff41431e3464",
   "metadata": {},
   "outputs": [],
   "source": [
    "# Cria um vetor de 3 linhas e 1 coluna\n",
    "vetor4 = np.array([ [1], [2], [3] ])"
   ]
  },
  {
   "cell_type": "code",
   "execution_count": null,
   "id": "80b0caed-9bd1-4447-a6b7-77dd91bd2ddd",
   "metadata": {},
   "outputs": [],
   "source": [
    "type(vetor4)"
   ]
  },
  {
   "cell_type": "code",
   "execution_count": null,
   "id": "66207003-d080-4e0a-ae92-c1fda711d22f",
   "metadata": {},
   "outputs": [],
   "source": [
    "vetor4.shape"
   ]
  },
  {
   "cell_type": "markdown",
   "id": "7a76f759-ac69-49d4-9eaa-0eae6b4bfbdc",
   "metadata": {},
   "source": [
    "#### Geometria de Vetores e Representação em Python"
   ]
  },
  {
   "cell_type": "code",
   "execution_count": 3,
   "id": "b8a034d0-9c35-4741-a51d-c17875b61a9a",
   "metadata": {},
   "outputs": [],
   "source": [
    "# Define o vartor\n",
    "u = np.array([-2, 3])"
   ]
  },
  {
   "cell_type": "code",
   "execution_count": 4,
   "id": "4b0e7c6c-013c-41ca-912c-32acd244544a",
   "metadata": {},
   "outputs": [
    {
     "name": "stdout",
     "output_type": "stream",
     "text": [
      "[-2  3]\n"
     ]
    }
   ],
   "source": [
    "print(u)"
   ]
  },
  {
   "cell_type": "markdown",
   "id": "99658e45-11fd-495e-be3f-d0cb2b8cb6db",
   "metadata": {},
   "source": [
    "https://matplotlib.org/stage/users/index.html"
   ]
  },
  {
   "cell_type": "code",
   "execution_count": 10,
   "id": "0c46f283-73b8-4ea7-b77f-b88e1f70a866",
   "metadata": {},
   "outputs": [
    {
     "data": {
      "image/png": "[encoded data removed]",
      "text/plain": [
       "<Figure size 500x500 with 1 Axes>"
      ]
     },
     "metadata": {},
     "output_type": "display_data"
    }
   ],
   "source": [
    "# Eemplo 1\n",
    "# Cria a figura\n",
    "plt.figure(figsize = (5, 5))\n",
    "\n",
    "# Define os 3 vetores\n",
    "vetor_1 = plt.arrow(0,\n",
    "                    0,\n",
    "                    u[0],\n",
    "                    u[1],\n",
    "                    head_width = .1,\n",
    "                    width = .01,\n",
    "                    color = 'blue',\n",
    "                    length_includes_head = True)\n",
    "\n",
    "# Ponto de Inicio do vetor\n",
    "plt.plot(0, 0, 'ko', markerfacecolor = 'yellow', markersize = 8)\n",
    "\n",
    "#Formatação do plot\n",
    "plt.grid(linestyle = '--', linewidth = .6)\n",
    "plt.axis('square')\n",
    "plt.axis([-4, 4, -4, 4])\n",
    "plt.legend('Vetor $\\mathbf{u}$')\n",
    "plt.savefig('imagens/grafico_01.png', dpi = 300)\n",
    "plt.show()"
   ]
  },
  {
   "cell_type": "code",
   "execution_count": null,
   "id": "cef800a9-6fe1-44b7-8c11-812b6fa01ad7",
   "metadata": {},
   "outputs": [],
   "source": [
    "# Exemplo 2\n",
    "# Cria a figura\n",
    "plt.figure(figsize = (5, 5))\n",
    "\n",
    "# Cria um arreyh de vetores\n",
    "vetores = np.array([ [3, -2], [-1, 4], [2, -3] ])\n",
    "print(f\"Vetores: \")\n",
    "print(vetores)\n",
    "\n",
    "# Cria um array de vetores para as origens\n",
    "origens = np.array([ [0,-1, -2], [0, -2, -1] ])\n",
    "print('\\Origens:')\n",
    "print(origens)\n",
    "\n",
    "#Plot\n",
    "plt.quiver(*origens, vetores[:,0], vetores[:,1], color = ['r', 'b', 'g'], scale = 15)\n",
    "\n",
    "#Escala\n",
    "plt.axis([-5, 5, -5, 5])\n",
    "\n",
    "#Salva o gráfico\n",
    "plt.savefig('imagens/grafico_02.png', dpi = 300)\n",
    "\n",
    "plt.show()\n",
    "\n"
   ]
  },
  {
   "cell_type": "markdown",
   "id": "e52a7912-d04b-4b4d-be67-690e9cc6f0ed",
   "metadata": {},
   "source": [
    "#### Adição de vetores"
   ]
  },
  {
   "cell_type": "code",
   "execution_count": null,
   "id": "7a6d010f-77c5-4851-a310-b943a6c748f2",
   "metadata": {},
   "outputs": [],
   "source": [
    "# Define os vetores como array numpy\n",
    "u = np.array([1, 2])\n",
    "v = np.array([4, -6])"
   ]
  },
  {
   "cell_type": "code",
   "execution_count": null,
   "id": "614d99b0-8c02-433b-b0e8-74b2f4738db8",
   "metadata": {},
   "outputs": [],
   "source": [
    "print(u)"
   ]
  },
  {
   "cell_type": "code",
   "execution_count": null,
   "id": "98c01fb8-7f66-49cb-ac51-4424dade555b",
   "metadata": {},
   "outputs": [],
   "source": [
    "print(v)"
   ]
  },
  {
   "cell_type": "code",
   "execution_count": null,
   "id": "866750f2-c538-4a19-bdcd-5e4132358520",
   "metadata": {},
   "outputs": [],
   "source": [
    "# Soma dos valores\n",
    "soma = u + v"
   ]
  },
  {
   "cell_type": "code",
   "execution_count": null,
   "id": "bae572a5-5ded-41d4-a8d3-b3d5516fb263",
   "metadata": {},
   "outputs": [],
   "source": [
    "print(soma)"
   ]
  },
  {
   "cell_type": "code",
   "execution_count": null,
   "id": "7a1c737d-494e-4e0c-8132-3d89e1114145",
   "metadata": {},
   "outputs": [],
   "source": [
    "# Plot dos 3 vetores\n",
    "\n",
    "# Cria a figura\n",
    "plt.figure(figsize = (8, 8))\n",
    "\n",
    "# Define os 3 vetores\n",
    "\n",
    "# Vetor u\n",
    "vetor_u = plt.arrow(0,\n",
    "                    0,\n",
    "                    u[0],\n",
    "                    u[1],\n",
    "                    head_width = .3,\n",
    "                    width = .1,\n",
    "                    color = 'blue',\n",
    "                    length_includes_head = True)\n",
    "# Vetor v\n",
    "vetor_v = plt.arrow(0,\n",
    "                    0,\n",
    "                    v[0],\n",
    "                    v[1],\n",
    "                    head_width = .3,\n",
    "                    width = .1,\n",
    "                    color = 'green',\n",
    "                    length_includes_head = True)\n",
    "\n",
    "# Soma dos vetores\n",
    "vetor_s = plt.arrow(0,\n",
    "                    0,\n",
    "                    soma[0],\n",
    "                    soma[1],\n",
    "                    head_width = .3,\n",
    "                    width = .1,\n",
    "                    color = 'magenta',\n",
    "                    length_includes_head = True)\n",
    "\n",
    "# pornto de inicio do vetor\n",
    "plt.plot(0, 0, 'ko', markerfacecolor = 'yellow', markersize = 8)\n",
    "\n",
    "# Formação do plot\n",
    "plt.grid(linestyle = '--', linewidth = .6)\n",
    "plt.axis('square')\n",
    "plt.axis( [-8, 8, -8, 8] )\n",
    "plt.legend( [vetor_u, vetor_v, vetor_s], ['u', 'v', 'u + v'] )\n",
    "plt.title('Vetores $\\mathbf{u}$, $\\mathbf{v}$ e $\\mathbf{u + v}$')\n",
    "plt.savefig('imagens/grafico_03.png', dpi = 300)\n",
    "plt.show()\n"
   ]
  },
  {
   "cell_type": "markdown",
   "id": "6d5ab191-e607-4210-8a19-6eaad9fc78f7",
   "metadata": {},
   "source": [
    "> Também podemos somar os vetores assim"
   ]
  },
  {
   "cell_type": "code",
   "execution_count": null,
   "id": "301f218c-6c1b-4db2-843c-82282ed717c4",
   "metadata": {},
   "outputs": [],
   "source": [
    "# Define os vetores\n",
    "a = np.array([4, 3, 2])\n",
    "print(a)"
   ]
  },
  {
   "cell_type": "code",
   "execution_count": null,
   "id": "cb5e47d7-e286-4d04-a451-8f61da7656fa",
   "metadata": {},
   "outputs": [],
   "source": [
    "b = np.array([1, 5, 7])\n",
    "print(b)"
   ]
  },
  {
   "cell_type": "code",
   "execution_count": null,
   "id": "15161584-3ad0-423e-9931-bb560d44d48c",
   "metadata": {},
   "outputs": [],
   "source": [
    "# Cria um arrayu vazio\n",
    "c = np.empty(3)"
   ]
  },
  {
   "cell_type": "code",
   "execution_count": null,
   "id": "6f2f2ff3-6e61-4044-ab5f-71c5ffa179ec",
   "metadata": {},
   "outputs": [],
   "source": [
    "print(c)"
   ]
  },
  {
   "cell_type": "code",
   "execution_count": null,
   "id": "395a3c4c-e787-4540-b2a7-37d48aa98fe8",
   "metadata": {},
   "outputs": [],
   "source": [
    "# Também podemos sopmear os vetores assim\n",
    "c[0] = a[0] + b[0]\n",
    "c[1] = a[1] + b[1]\n",
    "c[2] = a[2] + b[2]\n",
    "print(c)"
   ]
  },
  {
   "cell_type": "code",
   "execution_count": null,
   "id": "6b3c9b7c-75d6-4b47-9ff1-86c00c762e06",
   "metadata": {},
   "outputs": [],
   "source": [
    "# Mesmo que isso:\n",
    "c = a + b"
   ]
  },
  {
   "cell_type": "code",
   "execution_count": null,
   "id": "79463cd7-4d17-4ef2-9237-b6f13ef5050a",
   "metadata": {},
   "outputs": [],
   "source": [
    "print(c)"
   ]
  },
  {
   "cell_type": "markdown",
   "id": "7001bb41-353f-465f-97d2-4ef271a0bc14",
   "metadata": {},
   "source": [
    "#### Subtração de Vetores"
   ]
  },
  {
   "cell_type": "code",
   "execution_count": null,
   "id": "9527d546-4b1d-4e38-8acd-6ca3c2d2d80e",
   "metadata": {},
   "outputs": [],
   "source": [
    "# DEfine os vetores com array n umpy\n",
    "u = np.array([1, 2])\n",
    "v = np.array([2, -3])"
   ]
  },
  {
   "cell_type": "code",
   "execution_count": null,
   "id": "5f9d0de8-77ac-41ab-869e-145c95bab53a",
   "metadata": {},
   "outputs": [],
   "source": [
    "# Sujbtração dos vetores\n",
    "diff = u - v"
   ]
  },
  {
   "cell_type": "code",
   "execution_count": null,
   "id": "502341e2-4676-478b-ac8a-fc672045f3a2",
   "metadata": {},
   "outputs": [],
   "source": [
    "print(diff)"
   ]
  },
  {
   "cell_type": "code",
   "execution_count": null,
   "id": "e42e793b-9f88-41ea-90ec-bf7c223363fb",
   "metadata": {},
   "outputs": [],
   "source": [
    "type(diff)"
   ]
  },
  {
   "cell_type": "code",
   "execution_count": null,
   "id": "56065942-76e0-4842-8efe-3b7014bc39ac",
   "metadata": {},
   "outputs": [],
   "source": [
    "# Plot dos 3 vetores\n",
    "\n",
    "#Tamanho da figura\n",
    "plt.figure(figsize = (8, 8))\n",
    "\n",
    "# Vetores\n",
    "v1 = plt.arrow(0, 0, u[0], u[1], head_width = .3, width = .1, color = 'blue', length_includes_head = True)\n",
    "v2 = plt.arrow(0, 0, v[0], v[1], head_width = .3, width = .1, color = 'green', length_includes_head = True)\n",
    "v3 = plt.arrow(0, 0, diff[0], diff[1], head_width = .3, width = .1, color = 'magenta', length_includes_head = True)\n",
    "\n",
    "#ponto de inicido do vetor\n",
    "plt.plot(0, 0, 'ko', markerfacecolor = 'yellow', markersize = 8)\n",
    "\n",
    "#Formatação do plt\n",
    "plt.grid(linestyle =  '--', linewidth = .6)\n",
    "plt.axis('square')\n",
    "plt.axis([-6, 6, -6, 6])\n",
    "plt.legend([v1, v2, v3], ['u', 'v', ' u - v'])\n",
    "plt.title('Vetores $\\mathbf{u}$, $\\mathbf{v}$ e $\\mathbf{u - v}$')\n",
    "plt.savefig('imagens/grafico_04.png', dpi = 300)\n",
    "plt.show()"
   ]
  },
  {
   "cell_type": "markdown",
   "id": "ef4f05ea-df37-4840-a08c-c96a1c1b0935",
   "metadata": {},
   "source": [
    "#### Multiplicação Escalar"
   ]
  },
  {
   "cell_type": "code",
   "execution_count": null,
   "id": "bb74d6cf-9c12-4a2a-a919-ada176741700",
   "metadata": {},
   "outputs": [],
   "source": [
    "# Valor escalar\n",
    "valor_escalar = 3"
   ]
  },
  {
   "cell_type": "code",
   "execution_count": null,
   "id": "521d3dc3-2033-48a1-8710-2cea177b04c1",
   "metadata": {},
   "outputs": [],
   "source": [
    "# Vetor\n",
    "vetor = np.array([5, 4])"
   ]
  },
  {
   "cell_type": "code",
   "execution_count": null,
   "id": "f8ba2b17-f788-435b-b7fd-088d4ff70c93",
   "metadata": {},
   "outputs": [],
   "source": [
    "resultado = valor_escalar * vetor\n",
    "print(resultado)"
   ]
  },
  {
   "cell_type": "code",
   "execution_count": null,
   "id": "0d1bfa9e-692b-47b3-80fd-4f02dc4ee043",
   "metadata": {},
   "outputs": [],
   "source": [
    "# Tambpem podemos fazer outras operações escalares\n",
    "num = 2"
   ]
  },
  {
   "cell_type": "code",
   "execution_count": null,
   "id": "2230fad0-9020-4571-b704-22a21f126c79",
   "metadata": {},
   "outputs": [],
   "source": [
    "print(num + vetor)"
   ]
  },
  {
   "cell_type": "code",
   "execution_count": null,
   "id": "22d428fa-da3c-46ea-bffa-c7f2f0496322",
   "metadata": {},
   "outputs": [],
   "source": [
    "# Efeitos de diferentes valores escapares\n",
    "\n",
    "#Lista de escalares\n",
    "valores_escalares = [1, 2, 1/2, 0, -2/3, -2]\n",
    "\n",
    "#vetor\n",
    "vetor_inicial = np.array([.8, 1])\n",
    "\n",
    "# Cria a figura\n",
    "fig, axs = plt.subplots(1, len(valores_escalares), figsize = (14, 4))\n",
    "\n",
    "#contador para os subplots\n",
    "i = 0\n",
    "\n",
    "for valor in valores_escalares:\n",
    "\n",
    "    # Multiplicação escalar\n",
    "    vetor_resultante = valor * vetor_inicial\n",
    "\n",
    "    # Plot do vetor inicial\n",
    "    axs[i].arrow(0, 0, vetor_inicial[0], vetor_inicial[1], head_width = .3, width = .1, color = 'blue', length_includes_head = True)\n",
    "\n",
    "    #plot do vetor resultante\n",
    "    axs[i].arrow(.1, 0, vetor_resultante[0], vetor_resultante[1], head_width = .3, width = .1, color = 'red', length_includes_head = True)\n",
    "\n",
    "    # Grid\n",
    "    axs[i].axis('square')\n",
    "\n",
    "    # Formato\n",
    "    axs[i].axis([-2.5, 2.5, -2.5, 2.5])\n",
    "\n",
    "    #Limires\n",
    "    axs[i].set(xticks = np.arange(-2,3), yticks = np.arange(-2, 3))\n",
    "\n",
    "    # Titulo\n",
    "    axs[i].set_title(f'$\\sigma$ = {valor:.2f}')\n",
    "\n",
    "    # contador\n",
    "    i += 1\n",
    "\n",
    "plt.tight_layout()\n",
    "plt.savefig('imagens/grafico_05.png', dpi = 300)\n",
    "plt.show()"
   ]
  },
  {
   "cell_type": "markdown",
   "id": "81f32558-8faa-48e5-8786-62856ef527d6",
   "metadata": {},
   "source": [
    "#### Cross Product Entre Valores"
   ]
  },
  {
   "cell_type": "code",
   "execution_count": null,
   "id": "6115de9d-5870-421a-8c25-f2421e359eab",
   "metadata": {},
   "outputs": [],
   "source": [
    "# Define 2 vetores\n",
    "A = np.array([1, 2, 3])\n",
    "B = np.array([6, 2, 7])"
   ]
  },
  {
   "cell_type": "code",
   "execution_count": null,
   "id": "2422bba1-8683-4a1a-b8d6-2890d13f1031",
   "metadata": {},
   "outputs": [],
   "source": [
    "# Calcula o Cross product\n",
    "resultado = np.cross(A, B)"
   ]
  },
  {
   "cell_type": "code",
   "execution_count": null,
   "id": "13668ec1-5e51-44fa-8399-028404e4f5bc",
   "metadata": {},
   "outputs": [],
   "source": [
    "print(resultado)"
   ]
  },
  {
   "cell_type": "code",
   "execution_count": null,
   "id": "c3d0dbdb-a014-492e-910c-79bd089d3256",
   "metadata": {},
   "outputs": [],
   "source": [
    "type(resultado)"
   ]
  },
  {
   "cell_type": "code",
   "execution_count": null,
   "id": "25f8e58d-5d22-4704-93a5-41fc37ce1177",
   "metadata": {},
   "outputs": [],
   "source": [
    "resultado.shape"
   ]
  },
  {
   "cell_type": "code",
   "execution_count": null,
   "id": "41c4a1fb-e8e6-4d64-806f-8d0c2bfe1fe3",
   "metadata": {},
   "outputs": [],
   "source": [
    "# Criando nossa própria função\n",
    "def cross_prod(a, b):\n",
    "\n",
    "    #calculo\n",
    "    resultado = [a[1] * b[2] - a[2] * b[1], a[2] * b[0] - a[0] * b[2], a[0] * b[1] - a[1] * b[0]]\n",
    "\n",
    "    #retorno\n",
    "    return resultado        "
   ]
  },
  {
   "cell_type": "code",
   "execution_count": null,
   "id": "25e6a287-5592-4833-8ab7-e3239eed97f5",
   "metadata": {},
   "outputs": [],
   "source": [
    "# Executa função\n",
    "cross_prod(A, B)"
   ]
  },
  {
   "cell_type": "code",
   "execution_count": null,
   "id": "a9d72aca-14ec-4209-ace4-31037f9c039f",
   "metadata": {},
   "outputs": [],
   "source": [
    "# Plot dos vetores no cross product\n",
    "\n",
    "# Figura\n",
    "fig = plt.figure(figsize = (6, 6))\n",
    "\n",
    "# Projeção \n",
    "ax = fig.add_subplot(projection = '3d')\n",
    "\n",
    "#Cria valores para as coordenadas x, y, e Z\n",
    "x = y = z = 0\n",
    "\n",
    "# Define os vetores\n",
    "\"\"\"\n",
    "A = np.array([1, 2, 3])\n",
    "B = np.array([6, 2, 7])\n",
    "resultado = np.array([8, 11, -10])\n",
    "\"\"\"\n",
    "#plot\n",
    "ax.quiver(x, y, z, A, B, cross_prod(A, B), length = 0.4, normalize = True, color = ['r', 'g', 'b'])\n",
    "plt.savefig('imagens/grafico_06.png', dpi = 300)\n",
    "plt.show()"
   ]
  },
  {
   "cell_type": "markdown",
   "id": "ab6b87ee-99d3-4306-9057-09acd9edb47b",
   "metadata": {},
   "source": [
    "#### Dot Product entre Vetores"
   ]
  },
  {
   "cell_type": "code",
   "execution_count": null,
   "id": "b0d35205-be0e-4c1d-9a5c-30b13650aea7",
   "metadata": {},
   "outputs": [],
   "source": [
    "# Define 2 vetores (os mesmos que usamos no cross product)\n",
    "A = np.array([1, 2, 3])\n",
    "B = np.array([6, 2, 7])"
   ]
  },
  {
   "cell_type": "code",
   "execution_count": null,
   "id": "83095f05-a034-4fcd-9067-40fb440d5386",
   "metadata": {},
   "outputs": [],
   "source": [
    "# Calcula o dot product\n",
    "resultadodot = np.dot(A, B)"
   ]
  },
  {
   "cell_type": "code",
   "execution_count": null,
   "id": "2a1f85da-116b-45b5-a304-25fbbdbecd42",
   "metadata": {},
   "outputs": [],
   "source": [
    "print(resultadodot)"
   ]
  },
  {
   "cell_type": "code",
   "execution_count": null,
   "id": "e1ff85d7-7cc3-42d0-88e6-e377c2056e7c",
   "metadata": {},
   "outputs": [],
   "source": [
    "# Cria 3 vetores\n",
    "u = np.array([1, 5, 3])\n",
    "v = np.array([6, 2, 7])\n",
    "w = np.array([19, 4, 26])"
   ]
  },
  {
   "cell_type": "code",
   "execution_count": null,
   "id": "af3c7a1c-5c7b-427c-bc7a-89f8f034b126",
   "metadata": {},
   "outputs": [],
   "source": [
    "# Opçõa 1 de calcujlar o dot product com 3 vetores\n",
    "resultadodot3 = np.dot(u, v + w)\n",
    "print(resultadodot3)"
   ]
  },
  {
   "cell_type": "code",
   "execution_count": null,
   "id": "16ee34c8-4acb-486c-ae2c-e239e467d58b",
   "metadata": {},
   "outputs": [],
   "source": [
    "# Opção 2 de calcular dot product com 3 vetores\n",
    "resultadodot32 = np.dot(u, v) + np.dot(u, w)\n",
    "print(resultadodot32)"
   ]
  },
  {
   "cell_type": "markdown",
   "id": "dc8d612c-cedd-46c8-b6b4-e5a540d46209",
   "metadata": {},
   "source": [
    "#### Transporta do Vetor"
   ]
  },
  {
   "cell_type": "code",
   "execution_count": null,
   "id": "0a02067e-da1a-47dc-b189-099a26a64a69",
   "metadata": {},
   "outputs": [],
   "source": [
    "# Cria o vetor\n",
    "vec = np.array([ [1, 2, 3] ])\n",
    "print(vec)"
   ]
  },
  {
   "cell_type": "code",
   "execution_count": null,
   "id": "e9587965-7fa0-4645-99ad-5d7231d0dd1e",
   "metadata": {},
   "outputs": [],
   "source": [
    "vec.shape"
   ]
  },
  {
   "cell_type": "code",
   "execution_count": null,
   "id": "21327847-8cc3-4ab4-b415-d9823257d28a",
   "metadata": {},
   "outputs": [],
   "source": [
    "# Transporta\n",
    "print(vec.T)"
   ]
  },
  {
   "cell_type": "code",
   "execution_count": null,
   "id": "5082a058-ffdd-4991-b9d4-576507efc982",
   "metadata": {},
   "outputs": [],
   "source": [
    "# Transporta da Transporta\n",
    "print(vec.T.T)"
   ]
  },
  {
   "cell_type": "markdown",
   "id": "1530d32d-eccc-419a-bdf3-d99b821c0115",
   "metadata": {},
   "source": [
    "### Operações com Vetores no Espaço Vetorial em Python\n",
    "\n",
    "Um espaço vetorial, como o próprio nome indica, é o espaço para vetores, que define duas operações, **adição** e **multiplicação por escalares**, sujeitas aos axiomas abaixo:\n",
    "\n",
    "1. A soma de ${u}$ e ${v}$, indicado por ${u} + {v},$ está em $V$\n",
    "2. ${u}+{v} = {v}+{u}$"
   ]
  },
  {
   "cell_type": "markdown",
   "id": "0093f65d-4e24-45cc-8aab-98c8debcfba4",
   "metadata": {},
   "source": [
    "1. A soma de ${u}$ e ${v}$, indicado por ${u}+{v},$ está em $V$\n",
    "2. ${u}+{v}={v}+{u}$\n",
    "3. $({u}+{v})+{w}={u}+({v}+{w})$\n",
    "4. Existe um vetor nulo $0$ em $V$ tal que ${u}+{0}={u}$\n",
    "5. Para cada ${u}$ em $V$, há um vetor $-{u}$ in $V$ tal que ${u}+(-{u})={0}$\n",
    "6. A multipplicação do escalar ${u}$ por $c,$ indicado por $c {u},$ está em $V$\n",
    "7. $c({u}+{v})=c {u}+c {v}$\n",
    "8. $(c+d) {u}=c {u}+d {u}$\n",
    "9. $c(d {u})=(c d) {u}$\n",
    "10. $1 {u}={u}$"
   ]
  }
 ],
 "metadata": {
  "kernelspec": {
   "display_name": "Python 3 (ipykernel)",
   "language": "python",
   "name": "python3"
  },
  "language_info": {
   "codemirror_mode": {
    "name": "ipython",
    "version": 3
   },
   "file_extension": ".py",
   "mimetype": "text/x-python",
   "name": "python",
   "nbconvert_exporter": "python",
   "pygments_lexer": "ipython3",
   "version": "3.10.12"
  }
 },
 "nbformat": 4,
 "nbformat_minor": 5
}
