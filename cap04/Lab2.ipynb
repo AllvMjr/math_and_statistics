{
 "cells": [
  {
   "cell_type": "markdown",
   "id": "b902f1bd-544e-4340-8d15-be4b872f12f7",
   "metadata": {},
   "source": [
    "# Matemática e Estatística Aplicada para Data Science, Machine Learning e AI\n",
    "\n",
    "## Lab 2\n",
    "\n",
    "\n",
    "### Trabalhando com Funções e Logaritmos em Python"
   ]
  },
  {
   "cell_type": "code",
   "execution_count": null,
   "id": "929bd0b8-5405-4e85-a586-697f0cb8b828",
   "metadata": {},
   "outputs": [],
   "source": [
    "# Instalando pacore paa gravar as versões de outros pacotes usanos no jupyter notebook.\n",
    "# pip install -q -U watermark"
   ]
  },
  {
   "cell_type": "code",
   "execution_count": null,
   "id": "66e97f42-6fd2-4ea8-ac4b-c38db7ad5c98",
   "metadata": {},
   "outputs": [],
   "source": [
    "# Versões dos pacotes ujsados neste jupyter notebook\n",
    "%reload_ext watermark\n",
    "%watermark -a \"DSA Lab2 - Alvaro\" --iversions"
   ]
  },
  {
   "cell_type": "markdown",
   "id": "e6fac305-63c9-46c2-b003-31f581a98e7d",
   "metadata": {},
   "source": [
    "### Definindo Funções na Matemática\n",
    "\n",
    "No contexto da matenática, uma funções estabelece uma relação específica entre dois conjuntos de elementos, conhecidos como domínio e contradomínio. Uma função associa a cada elemento do domínio exatamente um elemento do contradomínio. Esta relação é frequentemente descrita como um \"mapeamento\" dos elementos de um conjunto para outro.\n",
    "\n",
    "Para entender melhor, considere o domínio como um conjunto de entradas possíveis e o contradomínio como um conjunto de saídas potenciais. A função atua como uma regra que determina como uma regra que tertermina como cada entrada é transformada em uma saída\n",
    "\n",
    "<img src=\"dominio_contradonimio.SVG\" width=\"500\" height=\"300\" tesxt-align=\"center\">"
   ]
  },
  {
   "cell_type": "markdown",
   "id": "44aafcd1-dff1-4a52-ba7e-32741d7b04fb",
   "metadata": {},
   "source": [
    "### Funções - Domínio, Imagem, Contradomínio\n",
    "\n",
    "Para entender uma fiunção completamente, é importante compreender trÊs termos associados: *domínio*, *imagen* e *contradomínio*\n",
    "\n",
    "**Domínio**: O domínio é uma função é o conjunto de todos os possíveis valores de entrada para os quais a função está definida. Em outras palavras, é o conjuntop de todos os valores que você pode inserir na função. Por exemplo, na função f(x) = sqrt(x), o domínio é o conjunto de todos os números reais e não negativos, pois não podemos calcular a rais quadrada de um número negativo (no conjunto dos números reais)\n",
    "\n",
    "**Imagem**: A imagem de uma função refere-se ao conjunto de todos os valores de saída que a função pode produzier. Quando falamos da imagem, estamos nos referindo especificamente aos resultados que realmente ocorrem, dada a função e seu domínio. Por exemplo, na função f(x) = x², a imagem é o conjunto de todos os números reais e não negativos, por que elevcar ao quadrado qualquer número reals sempre resulta em um valor não negativo.\n",
    "\n",
    "**Contradomínio**: O contradomínio é o conjunto de todos os possíveis valores de saída que a função poderia teoricamente produzir, independentemente de eles realmente ocorrerem ou não. É um conjunto de referência que inclui todas as saídas potenciais. Em muitos casos, o contradomínio é escolhido para ser um conjunto maior ou mais geral que a imagem. Por exemplo, para a função f(x) = x², podemos definiar o contradomínio como todos os npumeros reais, embora a imagem seja apenas os nçumeros reais não negativos"
   ]
  },
  {
   "cell_type": "markdown",
   "id": "3f9d9bdc-411c-49ea-a6a5-2cb2e521d6d4",
   "metadata": {},
   "source": [
    "### Funções na Matemática X Funções em PRogramação de \n",
    "\n",
    "A compreensão da diferença entre funções na matemática e funções em programação de computadores é essencial, pois, apesar de compartilharem algunas semenlhanças conceituais, elas têm propósitos e características distintas.\n",
    "\n",
    "#### Funções na Matemática:\n",
    "\n",
    "Na matemática, uma função é uma relação entre dois conjuntos que associa a cada elemento do primeiro conjunto (domínio) exatamente um elemento do segundo conjunto (contradomínio). Nãso há ambiguidade oui variação; cadaas entrada tem uma e apenas um saída correspondente.\n",
    "\n",
    "As funções matemáticas são abstratas e servem como base para raciocínio teórico. Elas são utilizadas para modelar relações e processos em diversos campos, como física, economia e biologia.\n",
    "\n",
    "Incluem funções lineares, quadráticas, polinomiais, exponenciais, logaríticas, trigonométricas, entre outras. Cadas tipo tem uma fórmula específica e propriedades que são estudadas e aplicadas em diferentes contextos teóricos.\n",
    "\n",
    "Muitas funções matemáticas podem ser apresentadas graficamente em uma sistema de coordenadas, ilustrando a relação entre as variáveis de entrada e saída.\n",
    "\n",
    "#### Funções em Programação de Computadores:\n",
    "\n",
    "Nas linguagens de programação, uma função é um bloco de código projetado para realizar uma tarefa específica. Elas pode ser chamada (invocada) repetidapemtne dentro de um programa, potencialmente com diferentes argumentos (entradas).\n",
    "\n",
    "Funções em programação podem retornar valores, mas também podem realizar ações sem retorno (como imprimir texto na tela ou modificar arquivos).\n",
    "Elas podem aceitar diversos tipos de entradas, incluindo outras funções, e podem produzir diferentes saídas baseadas em lógica condicional ou iterações.\n",
    "\n",
    "Funções em programação podem ter efeitos colaterais, como alterar o estado de variáveis globais ou interagir com sistemas externos. O escopo de uma função define quais variáveis e dados ele pode acessar e modificar.\n",
    "\n",
    "Enquanto fuinções matemáticas são teóricas, as funções em programação são usadas para construir software e resolver problemas práticos. Elas são fundamentais para a estruturação de código, tornando-o mais organizado, legível e eficiente.\n",
    "\n",
    "Exemplo de função matemática:\n",
    "\n",
    "ax + b = 0"
   ]
  },
  {
   "cell_type": "code",
   "execution_count": null,
   "id": "1d274992-5a98-4b60-8a13-abdf7419bced",
   "metadata": {},
   "outputs": [],
   "source": [
    "# Exemplo de função em programação\n",
    "def resolve_linear(a, b):\n",
    "    if a == 0:\n",
    "        return \"Sem solução\" if b!= 0 else \"Soluções infinitas\"\n",
    "    return -b / a"
   ]
  },
  {
   "cell_type": "markdown",
   "id": "263844fc-06c6-4f74-be9e-aa20f591e379",
   "metadata": {},
   "source": [
    "### Representação Gráfica de Funções\n",
    "\n",
    "Vamos criar um exemplo de função quadrática g(x) = x ^ 2."
   ]
  },
  {
   "cell_type": "code",
   "execution_count": null,
   "id": "88be6c10-2b80-4d79-ab33-b04fa963acd3",
   "metadata": {},
   "outputs": [],
   "source": [
    "# Importação\n",
    "import numpy as np\n",
    "import matplotlib.pyplot as plt"
   ]
  },
  {
   "cell_type": "code",
   "execution_count": null,
   "id": "f1fb4bb2-6807-40fe-b607-c12f4ee8a4d5",
   "metadata": {},
   "outputs": [],
   "source": [
    "# Definie a função\n",
    "def f(x):\n",
    "    return x ** 2"
   ]
  },
  {
   "cell_type": "code",
   "execution_count": null,
   "id": "05410416-8f60-4858-82c8-d1163a142198",
   "metadata": {},
   "outputs": [],
   "source": [
    "# Cria um conjuntp de valores aleatórios de X (por exemplo, de -10 a 10)\n",
    "x = np.linspace(-10, 10, 400)"
   ]
  },
  {
   "cell_type": "code",
   "execution_count": null,
   "id": "197ef729-0389-4078-a7b3-a974859ca758",
   "metadata": {},
   "outputs": [],
   "source": [
    "# Calcula os valores de Y para cada valor de X\n",
    "y = f(x)"
   ]
  },
  {
   "cell_type": "code",
   "execution_count": null,
   "id": "fa5bc743-98ac-4f80-bd31-a928989a7305",
   "metadata": {},
   "outputs": [],
   "source": [
    "# Cria o gráfico\n",
    "plt.figure(figsize = (14, 6))\n",
    "plt.plot(x, y, label = 'f(x) = x ^ 2')\n",
    "\n",
    "# Adiciona um título e rótulo aos eixos\n",
    "plt.title('Gráfico da função quadrática')\n",
    "plt.xlabel('x')\n",
    "plt.ylabel('f(x)')\n",
    "\n",
    "# Adiciona legenda\n",
    "plt.legend()\n",
    "\n",
    "#Mostra o gráfico\n",
    "plt.grid(True)\n",
    "plt.show()"
   ]
  },
  {
   "cell_type": "markdown",
   "id": "0c50ca3f-80e4-4d0c-9965-56d99fc9b71d",
   "metadata": {},
   "source": [
    "### Seno, Cosseno e Tangente\n",
    "\n",
    "O Seno é uma função matemática fundamental, comumente encontratada na trigonometria, um ramo da matemática que lida com as relações entre os lados e os ângulos dos triângulos. O Seno é a razão entre o cateto oposto e a hipotenusa de um triângulo, ou seja, trata-se de uma razão trigonométrica.\n"
   ]
  },
  {
   "cell_type": "code",
   "execution_count": null,
   "id": "26ceee57-e046-4580-8819-dc781a1f1980",
   "metadata": {},
   "outputs": [],
   "source": [
    "# Import o módulo 'math', que cont[em funções matemáticas\n",
    "import math\n",
    "\n",
    "#Calculando o seno de 30 graus\n",
    "\n",
    "# Define o ângulo em 30 graus\n",
    "angulo_graus = 30\n",
    "\n",
    "# Converte o ângulo de graus para radianos\n",
    "angulo_radianos = math.radians(angulo_graus)\n",
    "\n",
    "# Converse o seno do ângulo, que agora está em radianos\n",
    "seno = math.sin(angulo_radianos)\n",
    "\n",
    "# Imprimindo\n",
    "print(f\" Seno de angulode 30º é: {seno}\")"
   ]
  },
  {
   "cell_type": "markdown",
   "id": "748b5db6",
   "metadata": {},
   "source": [
    "> O cosseno de um ângulo é um triângulo retângulo é a razão entre o comprimento do lado adjacente ao ângulo e o comprimento da hipotenusa."
   ]
  },
  {
   "cell_type": "code",
   "execution_count": null,
   "id": "586d5568",
   "metadata": {},
   "outputs": [],
   "source": [
    "# Cosseno\n",
    "import math\n",
    " # Calculando o cosseno de 45 graus\n",
    "\n",
    "angulo_graus = 45\n",
    "angulo_radianos = math.radians(angulo_graus)\n",
    "cosseno = math.cos(angulo_radianos)\n",
    "print(f\"Cosseno de 45: {cosseno}\")"
   ]
  },
  {
   "cell_type": "markdown",
   "id": "84009dd5",
   "metadata": {},
   "source": [
    "> A tangente é um ângulo em um triângulo retângulo é a razão entre o comprimento do lado oposto ao ângulo e o comprimento do lado adjacente"
   ]
  },
  {
   "cell_type": "code",
   "execution_count": null,
   "id": "ed30b9f7",
   "metadata": {},
   "outputs": [],
   "source": [
    "import math\n",
    "\n",
    "# Calculando a tangente de 60 graus\n",
    "angulo_graus = 60\n",
    "angulo_radianos = math.radians(angulo_graus)\n",
    "tangente = math.tan(angulo_radianos)\n",
    "print(f\"Tangente de 60: {tangente}\")"
   ]
  },
  {
   "cell_type": "markdown",
   "id": "efa026cb",
   "metadata": {},
   "source": [
    "### Aplicação\n",
    "\n",
    "Nos modelos \"Transformers\", utilizados em Processamento de Linguagem Natural e outras tarefas de aprendizado de máquina como LLM (LArge Language Models), a função **seno** (junto com a função **cosseno**) desempenha um papel importante na criação de \"positional encodings\". Estes codificadores de posição são adicionados aos enbeddings (representações vetoriais) das palavras para fornecer infromações sobre a posição das palavras na sequência.\n",
    "\n",
    "Nos modelos tradionais de processamento de linguagem, como as redes neurais recorrentes (RNNs) e as redes de memória longa e curto prazo (LSTMs), a ordem das palavras é processada naturalmente, pois esses modelos leêm a entrada sequencialmente. No entando, os TRansformers não processam dados dessa maneira. Eles processam todas as palavras simultâneamente (em paralelo), e os torna muito eficiêntes, mas também significa que eles não têm uma noção inerente de ordem de palavra ou posição na sequência.\n",
    "\n",
    "Para resolver essa limitação, os TRansformers usam codificadores de posição. Esses codificadores são vetores adicionados aos enbeddings das palavras, proporcionando um meio de distinguir a posição de diferentes palavras na sequência.\n",
    "\n",
    "O artigo original que introduziu os Transformers (\"Attentions Is ALl You Need\" por Naswani et al., 2017) propõe o uso de funções seno e cosseno como referências variadas para esses codificadores de posição. Veja o paper original de pesquisa:\n",
    "\n",
    "https://arxiv.org/pdf/1706.03762.pdf\n",
    "\n",
    "**Por que Seno e Cosseno?**\n",
    "\n",
    " - Uniformidade e Diferenciação: As funções seno e cosseno variam de maneira regular e previsível, o que ajuda a aprender facilmente a relação entre as posições\n",
    " - Generalização para Sequências Longas: Estas funções permitem que o modelo generalize as posições que não foram vistas durante o treinamento, pois o seno e o cosseno são consistentes e se repetem.\n",
    "  - Preservação da Relação Linear: A combinação de seno e cosseno permite preservar a relação linear com a distância entre as palavras, o que é importante para o mecanismo de atenção do modelo."
   ]
  },
  {
   "cell_type": "markdown",
   "id": "7f2570cb",
   "metadata": {},
   "source": [
    "## Logaritmos e Logaritmos Naturais\n",
    "\n",
    "Logaritmos são uma operação matemática fundamental, que representa o oposto da exponenciação.\n",
    "\n",
    "Um logaritmo é uma função que retorna o número ao qual a base precisa ser elevada para obter o logaritmando.\n",
    "\n",
    "De forma simples, o logaritmo de um número é o expoente ao qual outro número fixo, a base, deve ser elevado para produzir esse número.\n",
    "\n",
    "Em termos de equação, se temos a^x = b, então o logaritmo de *b* na base *a* é **x**, frequentemente escrito como log_a(b) = x.\n",
    "\n",
    "Por exemplo, na equação 2³ = 8, o logaritmo de *8* na base *2* é *3*, porque 2 elevado a potência de 3 é igual a 8. Isso é escrito como log_2(8) = 3\n",
    "\n",
    "Os logaritmos são usados em muitas áreas da ciência, engenharia, e matemática para simplificar cálculos complexos, pois transforma operações de multiplicação em adição e divisão em subtração.\n",
    "\n",
    "Os logaritmos naturais são um caso especial de logaritmos onde a base é o número especial e irracional conhecido como **e** (aproximadamente igual a 2.71828), que é o número Euler.\n",
    "\n",
    "https://pt.wikipedia.org/wiki/Sete_pontes_de_K%C3%B6nigsberg\n",
    "\n",
    "O logaritmo natural de um núemro **x** é frequentemente escrito como ln(x). O número **e** é a base dos logartimos naturais por ser fundamentalmente relacionado a taxar de crescimento e decaimento de em matemática continua, como cálculo.\n",
    "\n",
    "Por exemplo, se e^x = y, então ln(y) = x. Os logaritmos naturais são particularmente importantes no estudo de cálcuilo e aparecem em várias fórmulas e aplicações, incluindo o cálculo de juros compostos, crescimento populacional, e na definição de funções exponenciais e logaritimicas contínuas.\n",
    "\n",
    "Os logaritmos de base 10 possúvel aplicações em escalas de terremoto. A famosa escala Richter é baseada nessa função, já que a potếncia dos abalos sístimos cresce por década. Também são utilizados em funções que variam pouco em y para altas escalas de x, por exemplo os diagrams de circuitos elétricos. Conforme a frequência x cresce, 10, 100, 1000, o módulo da função varia pouco, assim ela é plotada em um gŕafico log-log.\n",
    "\n",
    "Leia os itens a seguir no capítulo 4\n",
    " - Quando e Por que usamos logaritmos em Data Science ?\n",
    " - Como usamos os logaritmos em Machine Learning e Inteligência Artificial ?\n"
   ]
  },
  {
   "cell_type": "markdown",
   "id": "e41fb4d6",
   "metadata": {},
   "source": [
    "### Transformação de Log"
   ]
  },
  {
   "cell_type": "code",
   "execution_count": null,
   "id": "13cf1f97",
   "metadata": {},
   "outputs": [],
   "source": [
    "# Importação\n",
    "import math\n",
    "\n",
    "# Definindo números para o exemplo\n",
    "a = 5\n",
    "b = 3\n",
    "c = 2\n",
    "\n",
    "# Calculando logaritimos usando funções python\n",
    "\n",
    "#logaritmo do produto\n",
    "log_produto = math.log(a * b)\n",
    "\n",
    "# Logaritmo do quociente\n",
    "log_qotient = math.log(a / b)\n",
    "\n",
    "# Logaritimo de uma potência\n",
    "log_power = math.log(a**c)\n",
    "\n",
    "# Demonstrands as propriedades dos logaritimos\n",
    "\n",
    "# Propriedade do produto: log(a*c) = log(a) + log(b)\n",
    "print(f\"Logaritimo do Produto: \", log_produto, \"Propriedade: \", math.log(a) + math.log(b))\n",
    "\n",
    "# Proriedade do quociente: log(a/b) = log(a) - log(b)\n",
    "print(f\"Logaritimo do Quociente: \", log_qotient, \"Propriedade: \", math.log(a) - math.log(b))\n",
    "\n",
    "# Propriedade da potência: log(a^c) = c * log(a)\n",
    "print(f\"Logaritimo da Potência: \", log_power, \"Propriedade: \", c * math.log(a))\n"
   ]
  },
  {
   "cell_type": "markdown",
   "id": "a31a088d",
   "metadata": {},
   "source": [
    "### Exemplo de Uso de Transformação de Log em Data Science\n",
    "\n",
    "Vasmos criar um exemplo com código python que ilustra a transformação de log em um conjunto de dados. Neste exemplo, usaremos a biblioteza numpy para manipular os dados e o matplotlib para visualização. Suponhja que temos um conjunto de dados com valores que variam significativamente e queremos aplicar uma transformação de log para normalizá-los"
   ]
  },
  {
   "cell_type": "code",
   "execution_count": 31,
   "id": "4c4a4def",
   "metadata": {},
   "outputs": [
    {
     "data": {
      "image/png": "[encoded data removed]",
      "text/plain": [
       "<Figure size 800x400 with 2 Axes>"
      ]
     },
     "metadata": {},
     "output_type": "display_data"
    }
   ],
   "source": [
    "# Imports\n",
    "import numpy as np\n",
    "import matplotlib.pyplot as plt\n",
    "\n",
    "#Gerando dados de exemplo: preços de casas\n",
    "np.random.seed(0)\n",
    "precos_casas = np.random.lognormal(mean =13, sigma = 0.6, size = 100)\n",
    "\n",
    "# Aplicando a transformação logarítmica\n",
    "precos_casas_log = np.log(precos_casas)\n",
    "\n",
    "#criando os gráficos para comparação\n",
    "plt.figure(figsize=(8, 4))\n",
    "\n",
    "# Gráfico dos dados originais\n",
    "plt.subplot(1, 2, 1)\n",
    "plt.hist(precos_casas, bins = 30, color = 'blue', alpha = 0.7)\n",
    "plt.title('Distribujição dos Preços das Casas')\n",
    "plt.xlabel('Preço')\n",
    "plt.ylabel('Frequência')\n",
    "\n",
    "# Gráfico dos dados transformados\n",
    "plt.subplot(1, 2, 2)\n",
    "plt.hist(precos_casas_log, bins = 30, color = 'green', alpha = 0.7)\n",
    "plt.title('Distribuição Logarítica dos pPreços das casas')\n",
    "plt.xlabel('Log(Preço)')\n",
    "plt.ylabel('Frequência')\n",
    "\n",
    "plt.tight_layout()\n",
    "plt.show()"
   ]
  },
  {
   "cell_type": "markdown",
   "id": "be804198",
   "metadata": {},
   "source": [
    "**Gráfico à esquerda**: Mostra a distribuição dos preços das casas. Podemos observar que a distribuição é assimétrica à direita (ou seja, inclinada para a direita), com uma cauda longa para os valores maiores. Essa é uma característica comum de dados financeiros, como preços de casas.\n",
    "\n",
    "**Gráfico à direita**: Mostra a distribuilção dos mesmos dados após a aplicação da transformação logarítca. A transformação logarítmica ajuda a normalizar a distribuição, reduzindo a assimetria e tornando-a mais próxima de uma distribuição normal. Isso pode ser extremamente útil para análises estatísticas e modelos preditivos, uma vez que muitos algorítmos de aprendizado de máquina assumem que as variáveis de entrada seguem uma distribuição normal.\n",
    "\n",
    "Este exemplo demonstra como a transformação logarítmica pode ser uma ferramenta poderosa em Data Science, especialmente no tratamento de dados com distribuições assimétricas.\n",
    "\n",
    "Modificamos os dados sem modificar a informação. Fazemos isto o tempo todos em Data Science."
   ]
  }
 ],
 "metadata": {
  "kernelspec": {
   "display_name": "Python 3",
   "language": "python",
   "name": "python3"
  },
  "language_info": {
   "codemirror_mode": {
    "name": "ipython",
    "version": 3
   },
   "file_extension": ".py",
   "mimetype": "text/x-python",
   "name": "python",
   "nbconvert_exporter": "python",
   "pygments_lexer": "ipython3",
   "version": "3.10.12"
  }
 },
 "nbformat": 4,
 "nbformat_minor": 5
}
