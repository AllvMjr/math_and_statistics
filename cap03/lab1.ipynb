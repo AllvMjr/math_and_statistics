{
 "cells": [
  {
   "cell_type": "markdown",
   "id": "2a04ebac-a617-41ad-84de-4da51294c659",
   "metadata": {},
   "source": [
    "## Matemática e Estatistica aplicada para Data Science, Machine Learning e IA\n",
    "## Lab 1\n",
    "\n",
    "### Representando Equações via programação\n"
   ]
  },
  {
   "cell_type": "markdown",
   "id": "c117b0db-6d2e-4a56-bafc-939c8a38c901",
   "metadata": {},
   "source": [
    "### Instalando e Carregando Pacotes"
   ]
  },
  {
   "cell_type": "code",
   "execution_count": null,
   "id": "15eaed7d-f6c2-4664-a585-0829597e0fb8",
   "metadata": {},
   "outputs": [],
   "source": [
    "# instalando o pacote watermark.\n",
    "# Este pacote é usado ára gravar as versoes dos pacotes neste jupyter notebook.\n",
    "!pip install -q -U watermark"
   ]
  },
  {
   "cell_type": "code",
   "execution_count": null,
   "id": "2c538b7d-1501-42f9-b21d-e5ced2afcefa",
   "metadata": {},
   "outputs": [],
   "source": [
    "# Versões dos pacotes usanes neste jupyter notebook\n",
    "%reload_ext watermark\n",
    "%watermark -a \"Dsa - Alvaro\" --iversions"
   ]
  },
  {
   "cell_type": "markdown",
   "id": "d3e3ea36-b92c-4ced-8a91-af356ec2534d",
   "metadata": {},
   "source": [
    "## Números e Representações\n",
    "\n",
    "Na matemátiva, uma variedade de números e suas representações são usados para diferentes propósitos. Aqui está uma lista dos tipos mais comuns de números e suas representações:\n",
    "**Números Naturais(N):** Não os números inteiros não-negativos, incluem 0, 1, 2 .. Eles são usados para contar e ordenar\n",
    "\n",
    "**Números Inteiros(Z):** Incluem todos os números naturais, seus opostos negativos e o zeros. Portanto, são ..., -1, 0, 1 ..\n",
    "\n",
    "**Números Racionais(Q):** São os números que podem ser expressos como a fração de dois numeros inteiros, onde o denominador não é zero. Incluem números como 1/2, -3/4, 5, 0.75, etc.\n",
    "\n",
    "**Números Irracionais:** São os números que não podem ser expressos como uma fração simples de dois inteiros. Incluem números como π(pi) e √2. Esses números têm uma expansão decimal infinita não periódica.\n",
    "\n",
    "**Números Reais(R):** Incluem todos os números racionais e irracionais. Os números reais podem ser representados em uma linha periódica.\n",
    "\n",
    "**Números Completos(C):** Incluem todos os números que podem ser expressos de forma a + bi, onde a e b são os numeros reais e i é a unidade imaginária. A unidade imaginária é uma extensão dos núemros reais e foi criada para solucionar equ8ações que não possuem soluções dentrod o conjunto dos núemros reais. A unidade imaginária é representada pela letra i, que é definida como a rais quadrada de -1.\n",
    "\n",
    "**Números Primos:** São números maiores que 1 que têm exatamente dois divisores distintos: 1 e eles mesmos. Ex: 2, 3, 5, 7, 11 ..\n",
    "\n",
    "Cada um desses tipos de números tem sua própria utilidade e aplicação em diferentes áreas da matemática e ciência."
   ]
  },
  {
   "cell_type": "markdown",
   "id": "4a2511e4-bab8-44ef-b3ce-40f90e701828",
   "metadata": {},
   "source": [
    "# PEMDAS\n",
    "A regra **PEMDAS** é um acrônimo usado para ajudar a lembrar a ordem das operações em matemática, que significa:\n",
    " * <i>Parênteses</i>\n",
    " * <i>Expoente (ou potências)</i>\n",
    " * <i>Multiplicação e divisão (da esqueda para a direita)</i>\n",
    " * _Adição e Subtação (Da esquerda para a direita)\n",
    "Esta regra é um guia para determinar para qual operação matemática deve ser realizada primeiro em uma expressão matemática. Aqui está como ela funciona:\n",
    " * Parênteses: Realize primeiro as operações dentro dos parênteses. Isso também se aplica a colchetes[] e chaves{}\n",
    " * Expoênte: em seguida, calcule as potências e as raízes.\n",
    " * Multiplicação e Divisão: Estas operações são realizadas da esquerda para a direita. Elas têm a mesma prioridade, o que significa que você deve fazer a que aparecer primeiro.\n",
    " * Adição e Subtação: Por último, faça as operações de adição e subtração, também da esquerda para a direita. Assim como na multiplicação e divisão, adição e subtração tem a mesma prioridade.\n",
    "\n",
    "É importante notar que, embora a regra PEMDAS seja um guia útil, ela não substitui a compreensão das propriedades matemáticas e de como as expressões são construídas e simplificadas."
   ]
  },
  {
   "cell_type": "markdown",
   "id": "8a01884a-567d-4252-8a45-b79609817f45",
   "metadata": {},
   "source": [
    "# O que são Equações?\n",
    "Equações são cálculos em que uma ou mais variáveis representam valores desconhecidos. Neste lab tu vai aprender algumas técnicas fundamentais para resolver equações usando programação.\n",
    "\n",
    "**Resolvendo Equação com 1 passo**\n",
    "Considere a seguinte equação<br>\n",
    "\\begin{equation} x + 12 = -37\\end{equation}\n",
    "\n",
    "O desafio aqui é encontrar o valor de **x** e para isso precisamos *isolar a vairiável*. Neste caso, precisamos colocar **x** em lado do sinal \"=\" e todos os outros valores para outro lado. Para isso, seguiremos estas regras.\n",
    "1.Usar operações opostas para cancelar os valores que não queremos de uma lado. Neste caso, o lado esquerdo da equação inclui uma adição de 12, então vamos cancelar isso subtraindo 12 e o lado esquerdo da esquação se torna **x + 12 -12**.\n",
    "2.O que quer que você fala de uma lado, você também deve fazer do outro lado. NEste caso, subtraimos 12 do lado esquerdo, portanto também devemos subtrair 22 do lado direito da equação, que se torna **-37-12**\n",
    "\n",
    "Nossa equação agora fica assim:\n",
    "\\begin{equation}x + 12 -12 = -37 - 12\\end{equation}\n",
    "Agora podemos calcular os vbalores em ambos os lados. Nosso lado esquerdo, 12 -12 é 0, então ficamos com:\n",
    "\\begin{equation}x = -37-12\\end{equation}\n",
    "O que produz o resultado -49. Nossa equação agora está resolvida, como pode ver aqui:\n",
    "\\begin{equation}x = -49\\end{equation}\n",
    "É sempre ujma boa prática verificar o seu resultado inserindo o valor da variável que você calculou na equação e garantindo que ele seja verdadeiro.\n",
    "Podemos fazir isto facilmente usando algum código Python simples."
   ]
  },
  {
   "cell_type": "code",
   "execution_count": 1,
   "id": "e8524946-1a9f-4d15-8dea-21959081ebb3",
   "metadata": {},
   "outputs": [],
   "source": [
    "# Atribuindo o valor a x\n",
    "x = -49"
   ]
  },
  {
   "cell_type": "code",
   "execution_count": 2,
   "id": "e867e37b-802a-4539-b204-dcd52060f192",
   "metadata": {},
   "outputs": [
    {
     "data": {
      "text/plain": [
       "True"
      ]
     },
     "execution_count": 2,
     "metadata": {},
     "output_type": "execute_result"
    }
   ],
   "source": [
    "# Comparando as expressões\n",
    "x + 12 == -37"
   ]
  },
  {
   "cell_type": "code",
   "execution_count": 3,
   "id": "c7544301-d014-48c9-b89a-96028e6ba2aa",
   "metadata": {},
   "outputs": [],
   "source": [
    "# Atribuindo valor a x\n",
    "x = 1"
   ]
  },
  {
   "cell_type": "code",
   "execution_count": 4,
   "id": "538f2dee-79e2-4ee1-996f-c11361baee6a",
   "metadata": {},
   "outputs": [
    {
     "data": {
      "text/plain": [
       "False"
      ]
     },
     "execution_count": 4,
     "metadata": {},
     "output_type": "execute_result"
    }
   ],
   "source": [
    "# Comparando as expressões\n",
    "x + 12 == -37"
   ]
  },
  {
   "cell_type": "markdown",
   "id": "80464666-8f0c-49c3-a1ea-e064b0d553de",
   "metadata": {},
   "source": [
    "### Resolvendo Equações com 2 passo\n",
    "\n",
    "O exemplo anterior foi bastante simples - você provavelmente poderia resolvê-lo em sua cabeça. Então que tal algo um pouco mais complexo ?\n",
    "\\begin{equation}3x -2 = 10\\end{equation}\n",
    "Como antes, precisamos isolar a variável **n**, mas desta vez faremos isso em duas etapas\n",
    "\n",
    "A primeria coisa que faremos é cancelar as *constantes*. Uma constante é qualquer n[umero que se mantém sozinho, então, neste caso, o 2 que estamos subtraindo do lado esquerdo é uma constante. Usaremos uma operação oposta para cancelá-lo no lado esquerdo, portanto, como a operação atual é subtratir 2, adicionaresmos 2; e é claro que tuo que fazermos no lado esquerdo precisamos fazer no lado direito, então após o primeiro passo, nossa equação fica assim:\n",
    "\\begin{equation}3x-2+2 = 10+2\\end{equation}\n",
    "Agora os -2 e +2 à esquerda se cancelam, e à direita, 10+2 é 12; entao a equação agora é:\n",
    "\\begin{equation}2x = 12\\end{equation}\n",
    "Ok, hora do passo dois - precisamos ligar com os *coeficientes* - um coeficiente é um número que é aplicado a uma variável. Neste caso, nossa expressão á esquerda é 3x, o que significa **x** multiplicado por 3; para que possamos aplicar a operação oposta para cancelá-lo, desde que façamos o mesmo para o outro lado, fica assim:\n",
    "\\begin{equation} \\frac{3x}{3} = \\frac{12}{3}\\end{equation}\n",
    "3x &divide; 3 é igual a x, então agora isolamos a variavel\n",
    "\\begin{equation}x = \\frac{12}{3}\\end{equation}\n",
    "E podemos calcular o resultado como <sup>12</sup>/<sub>3</sub> que é **4**:\n",
    "\\begin{equation}x = 4\\end{equation}\n",
    "Vamos verificar esse resultado usando python:"
   ]
  },
  {
   "cell_type": "code",
   "execution_count": 1,
   "id": "823eadc1-34e7-4b7e-9073-284dae61e4e1",
   "metadata": {},
   "outputs": [],
   "source": [
    "# Atributo valor a x\n",
    "x = 4"
   ]
  },
  {
   "cell_type": "code",
   "execution_count": 2,
   "id": "ce35dc39-eca6-43f9-94a0-6ffa3ec4bb66",
   "metadata": {},
   "outputs": [
    {
     "data": {
      "text/plain": [
       "True"
      ]
     },
     "execution_count": 2,
     "metadata": {},
     "output_type": "execute_result"
    }
   ],
   "source": [
    "# Comparando  as expressões\n",
    "3 * x - 2 == 10"
   ]
  },
  {
   "cell_type": "markdown",
   "id": "f760ffc2-ab65-4bd1-a893-e4db4a113bce",
   "metadata": {},
   "source": [
    "### Resolvendo Equações Combinando Termos\n",
    "\n",
    "Termos semelhantes são elementos de uma expressão que se relacionam com a mesma variável ou constante (com a mesma *ordem* ou *exponencial*, que discutiremos mais adiante). Por exemplo, considere a seguinte expressão:\n",
    "\\begin{equation}5x + 1 -2x = 22\\end{equation}\n",
    "NEstga equação, o lado exquerdo inclui os termos **5x** e **-2x**, ambos representando a variável **x** multiplicada por um coeficiente. Observe qu incluímos o sinal (+ ou -) na frente do valor.\n",
    "Podemos reescrever a equação para combinar estes termos semelhantes:\n",
    "\\begin{equation}\\textbf{5x-2x}+1 = 22\\end{equation}\n",
    "Podemos então simplesmente realizar as operações necessárias nos termos semelhantes para consolidá=lo em um único termo:\n",
    "\\begin{equation}\\textbf{3x}+1-1 = 22-1\\end{equation}\n",
    "Isto nos dá:\n",
    "\\begin{equation}3x = 21\\end{equation}\n",
    "Então vamos lidar com os coeficientes - neste caso **x** é multiplicado por 3, então vamos divididar por 3 em ambos os lados para remover o coeficiente:\n",
    "\\begin{equation}\\frac{3x}{3} = \\frac{21}{3}\\end{equation}\n",
    "Isso nos dá como resposta:\n",
    "\\begin{equation}x = 7\\end{equation}"
   ]
  },
  {
   "cell_type": "code",
   "execution_count": 3,
   "id": "175938e6-5947-4ac3-854f-ec94e825f34a",
   "metadata": {},
   "outputs": [],
   "source": [
    "# Atribuindo valor a x\n",
    "x = 7"
   ]
  },
  {
   "cell_type": "code",
   "execution_count": 5,
   "id": "5dc52bb4-046d-4309-be1a-c07c0af9f8e9",
   "metadata": {},
   "outputs": [
    {
     "data": {
      "text/plain": [
       "True"
      ]
     },
     "execution_count": 5,
     "metadata": {},
     "output_type": "execute_result"
    }
   ],
   "source": [
    "# comparando as expressões\n",
    "(5 * x) + 1 - (2 * x) == 22"
   ]
  },
  {
   "cell_type": "markdown",
   "id": "35ecb458-022a-431e-9d64-3ff11b891e11",
   "metadata": {},
   "source": [
    "### Trabalhando com Frações - Exemplo 1\n",
    "\n",
    "Algumas das etapas para resolver as equações acima envolveram trabalhar com frações - que em si não apremas operações de divisão. Vamos dar uma olhada em um exemplo de uma equação em que nossa variável é definida como uma fração:\n",
    "\\begin{equation}\\frac{x}{3}+1=16\\end{equation}\n",
    "Seguimos a mesma abordagem de antes, primeiro removemndo as constantes do lado esquerdo - então subtraimos 1 de ambos os lados.\n",
    "\\begin{equation}\\frac{x}{3}+1-1 = 16-1\\end{equation}\n",
    "Ficamos:\n",
    "\\begin{equation}\\frac{x}{3} = 15\\end{equation}\n",
    "Agora precisamos lidar com a fração à esquerda para que fiquemos com apenas **x**.\n",
    "A fração <sup>x</sup>/<sub>3</sub> que é outra maneida de dizer *x dividido por 3*, então podemos aplicar a operação oposta para ambos os lados. Neste caso, precisamos multiplicar ambos os lados pelo denonimador sob a variável, que é 3.\n",
    "\n",
    "Para faciliar o trabalho com um termo que contém frações, podemos expressar números inteiros como frações com denominador1; então, à esquerda, podemos expressar 2 como <sup>3</sup>/<sub>1</sub> e multiplicamos com <sup>x</sup>/<sub>3</sub>.\n",
    "Observe que a notação para multiplicação é um símbolo **&bull;** em vez do operador de multiplicação *x* padrão (que causaria confusão com a variável **x**) ou símb olo de asterisco usado pela maioria das linguagens de programação\n",
    "\\begin{equation}\\frac{3}{1}\\cdot\\frac{x}{3} =  15\\cdot3\\end{equation}\n",
    "ISto nos dá o seguinte resultado:\n",
    "\\begin{equation}x = 45\\end{equation}\n"
   ]
  },
  {
   "cell_type": "code",
   "execution_count": 6,
   "id": "e7a9b3e1-a89c-490d-92c6-e4f257499cd8",
   "metadata": {},
   "outputs": [],
   "source": [
    "# Atribuindo valor a x\n",
    "x = 45"
   ]
  },
  {
   "cell_type": "code",
   "execution_count": 7,
   "id": "26371b8f-086f-4d1c-9fd5-092d001123ff",
   "metadata": {},
   "outputs": [
    {
     "data": {
      "text/plain": [
       "True"
      ]
     },
     "execution_count": 7,
     "metadata": {},
     "output_type": "execute_result"
    }
   ],
   "source": [
    "# Comparando as expressões\n",
    "x / 3 + 1 == 16"
   ]
  },
  {
   "cell_type": "markdown",
   "id": "545b1954-cbc0-4099-8171-2d6cb9dee71c",
   "metadata": {},
   "source": [
    "### Trabalhando com Frações Exemplo 2\n",
    "\n",
    "Vejamos outro exemplo, em que  a variável é um número inteiro, mas seu coeficiente é uma fração:\n",
    "\\begin{equation}\\frac{2}{5}x + 1 = 11\\end{equation}\n",
    "Como de costume, começaremos removendo as constantes da expressão variável; então, neste caso, precisamos subtrair 1 de ambos os lados:\n",
    "\\begin{equation}\\frac{2}{5}x + 1 - 1 = 11 -1\\end{equation}\n",
    "Com isto ficamos com este resultado\n",
    "\\begin{equation}\\frac{2}{5}x = 10 \\end{equation}\n",
    "Agora precisaremos cancelar a fração. A expressão equivalente a dois quintos vezes **x**, então a operação oposta é dividir por<sup>2</sup>/<sub>5</sub>; mas uma maneira mais simples de fazer isso com uma fração é multiplica-la por sua *recíproca*, que é apenas o inverso da fração, neste caso <sup>5</sup>/<sub>2</sub>. Claro, precisamos fazer isto para para os dois lados:\n",
    "\\begin{equation} \\frac{5}{2} \\cdot \\frac{2}{5}x = \\frac{10}{1} \\cdot \\frac{5}{2} \\end{equation}\n",
    "Isso nos dá o seguente resultado\n",
    "\\begin{equation} x = \\frac{50}{2} \\end{equation}\n",
    "Que podemos simplificar para:\n",
    "\\begin{equation}x = 25 \\end{equation}"
   ]
  },
  {
   "cell_type": "code",
   "execution_count": 1,
   "id": "1d5daaed-f925-4ceb-b82c-ead35abbdc5f",
   "metadata": {},
   "outputs": [],
   "source": [
    "# Atribuindfo valor a x\n",
    "x = 25"
   ]
  },
  {
   "cell_type": "code",
   "execution_count": 2,
   "id": "e8ebae2a-5a8d-49fd-8156-2a430a5823e6",
   "metadata": {},
   "outputs": [
    {
     "data": {
      "text/plain": [
       "True"
      ]
     },
     "execution_count": 2,
     "metadata": {},
     "output_type": "execute_result"
    }
   ],
   "source": [
    "# Comparando as expressões\n",
    "2 / 5 * x + 1 == 11"
   ]
  },
  {
   "cell_type": "markdown",
   "id": "7dabe9f2-599c-4b00-ab09-a6f162e7eb7d",
   "metadata": {},
   "source": [
    "### Equação com Variáveis em Ambos os Lados\n",
    "\n",
    "Até agora, todas as nossas equações tiveram um termo variável em apenas um lado. No entando, os termos variáveis podem existir em ambos os lados.\n",
    "Considere esta equação:\n",
    "\\begin{equation} 3x + 2 = 5x -1 \\end{equation}\n",
    "Desta vex, temos termos que incluem **x** em ambos os lados. Vamos usar exatamente a mesma abordagem para resolver esse tipo de equação que fizemos para os exemplos anteiores. Primeiro, vamos lidar com as constantes adicionando 1 a ambos os lados. Isso elimina o -1 à direita.\n",
    "\\begin{equation} 3x + 2 + 1 = 5x -1 + 1 \\end{equation}\n",
    "Ficamos com este resultado\n",
    "\\begin{equation} 3x + 3 = 5x\\end{equation}\n",
    "Agora podemos eliminar a expressão variável de um lado subtraindo o 3x de ambos os lados. Isso elimina o 3x à esquerda.\n",
    "\\begin{equation} 3x - 3x + 2 = 5x - 3x\\end{equation}\n",
    "Agora temos a eliminação de x\n",
    "\\begin{equation} 3 = 2x \\end{equation}\n",
    "Em seguida, podemos lidar com o coeficiente dividindo amos os lados por 2:\n",
    "\\begin{equation}\\frac{3}{2} = x\\end{equation}\n",
    "Agora isolamos x. Parece um pouco estranho por que geralmente temos a variável do lado esquerdo, então se isso te deixa mais confortável você pode simplesmente inverter a equação:\n",
    "\\begin{equation}x = \\frac{3}{2}\\end{equation}\n",
    "O resultado é 1.5"
   ]
  },
  {
   "cell_type": "code",
   "execution_count": 3,
   "id": "97ce6664-ea04-4f96-818e-65ddd90997a1",
   "metadata": {},
   "outputs": [],
   "source": [
    "# Atribuindo  valor a x\n",
    "x = 1.5"
   ]
  },
  {
   "cell_type": "code",
   "execution_count": 5,
   "id": "91460ad6-be11-436d-b410-4cd50825bb57",
   "metadata": {},
   "outputs": [
    {
     "data": {
      "text/plain": [
       "True"
      ]
     },
     "execution_count": 5,
     "metadata": {},
     "output_type": "execute_result"
    }
   ],
   "source": [
    "# Comparando o resultado\n",
    "3*x + 2 == 5*x - 1"
   ]
  },
  {
   "cell_type": "markdown",
   "id": "1e754f4a-ee14-430d-83a3-405c1e3791b4",
   "metadata": {},
   "source": [
    "### Usando a Propriedade distributiva\n",
    "\n",
    "A propriedade distributiva é uma lei matemática que nos permite distribuir a mesma operação para termos entre parênteses. Por exemplo, considere a seguinte equação:\n",
    "\\begin{equation} \\textbf{4(x + 2) +} \\textbf{3(x - 2)} = 16\\end{equation}\n",
    "A equação inclui duas operações entre parêntreses: **4(x + 2)** e **3(x - 2)**. Cada uma dessas operações consiste em uma constante pela qual o conteúdo do parênteses deve ser umtiplicado: por exemplo, 4 vezes (x + 2).\n",
    "A propriedade distributiva significa que podemos obter o mesmo resultado multiplcando cada termo entre parênteses e somando os resultados, então a para a primeiroa operação entre parênteses, podemos multiplicart 4 por x e somar 4 vbezes + 2; e para segunda operação entre parênteses, podemos calcular 3 vezes x + 3 vezes -2. Observe que as constantes entre parênteses incluem o sinal (+ ou -) que as precede:\n",
    "\\begin{equation}4x + 8 + 3x -6 = 16\\end{equation}\n",
    "Agorapodemos agrupar nossos termos semelhantes:\n",
    "\\begin{equation}7x + 2 = 16\\end{equation}\n",
    "Em seguinda, movemos a constante para o outro lado:\n",
    "\\begin{equation}7x = 14\\end{equation}\n",
    "E agora podemos lidar com o coeficiente:\n",
    "\\begin{equation}\\frac{7}{7}x = \\frac{14}{7}\\end{equation}\n",
    "Teremos:\n",
    "\\begin{equation}x = 2\\end{equation}"
   ]
  },
  {
   "cell_type": "code",
   "execution_count": 1,
   "id": "d80f118e-1e48-48e9-84c8-19d004c18522",
   "metadata": {},
   "outputs": [],
   "source": [
    "# Atribuindo valor a x\n",
    "x = 2"
   ]
  },
  {
   "cell_type": "code",
   "execution_count": 3,
   "id": "e696e386-7aba-4828-b4cb-aa18dcc69aad",
   "metadata": {},
   "outputs": [
    {
     "data": {
      "text/plain": [
       "True"
      ]
     },
     "execution_count": 3,
     "metadata": {},
     "output_type": "execute_result"
    }
   ],
   "source": [
    "# Comparando as expressões\n",
    "4 * (x + 2) + 3 * (x -2) == 16"
   ]
  },
  {
   "cell_type": "code",
   "execution_count": 6,
   "id": "f33f268b-72af-4bfe-ba60-0e9a73d59277",
   "metadata": {},
   "outputs": [],
   "source": [
    "%reload_ext watermark"
   ]
  },
  {
   "cell_type": "code",
   "execution_count": 7,
   "id": "861e768f-28de-4b10-b561-df75ae16d2b4",
   "metadata": {},
   "outputs": [
    {
     "name": "stdout",
     "output_type": "stream",
     "text": [
      "Author: DSA - Alvaro\n",
      "\n"
     ]
    }
   ],
   "source": [
    "%watermark -a \"DSA - Alvaro\""
   ]
  },
  {
   "cell_type": "code",
   "execution_count": 8,
   "id": "eef90dc1-9ab3-4905-8a49-ac39d35efbf4",
   "metadata": {},
   "outputs": [
    {
     "name": "stdout",
     "output_type": "stream",
     "text": [
      "Python implementation: CPython\n",
      "Python version       : 3.10.12\n",
      "IPython version      : 8.32.0\n",
      "\n",
      "Compiler    : GCC 11.4.0\n",
      "OS          : Linux\n",
      "Release     : 5.15.0-133-generic\n",
      "Machine     : x86_64\n",
      "Processor   : x86_64\n",
      "CPU cores   : 2\n",
      "Architecture: 64bit\n",
      "\n"
     ]
    }
   ],
   "source": [
    "%watermark -v -m"
   ]
  }
 ],
 "metadata": {
  "kernelspec": {
   "display_name": "Python 3 (ipykernel)",
   "language": "python",
   "name": "python3"
  },
  "language_info": {
   "codemirror_mode": {
    "name": "ipython",
    "version": 3
   },
   "file_extension": ".py",
   "mimetype": "text/x-python",
   "name": "python",
   "nbconvert_exporter": "python",
   "pygments_lexer": "ipython3",
   "version": "3.10.12"
  }
 },
 "nbformat": 4,
 "nbformat_minor": 5
}
