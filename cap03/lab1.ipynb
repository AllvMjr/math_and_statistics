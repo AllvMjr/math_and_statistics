{
 "cells": [
  {
   "cell_type": "markdown",
   "id": "2a04ebac-a617-41ad-84de-4da51294c659",
   "metadata": {},
   "source": [
    "## Matemática e Estatistica aplicada para Data Science, Machine Learning e IA\n",
    "## Lab 1\n",
    "\n",
    "### Representando Equações via programação\n"
   ]
  },
  {
   "cell_type": "markdown",
   "id": "c117b0db-6d2e-4a56-bafc-939c8a38c901",
   "metadata": {},
   "source": [
    "### Instalando e Carregando Pacotes"
   ]
  },
  {
   "cell_type": "code",
   "execution_count": null,
   "id": "15eaed7d-f6c2-4664-a585-0829597e0fb8",
   "metadata": {},
   "outputs": [],
   "source": [
    "# instalando o pacote watermark.\n",
    "# Este pacote é usado ára gravar as versoes dos pacotes neste jupyter notebook.\n",
    "!pip install -q -U watermark"
   ]
  },
  {
   "cell_type": "code",
   "execution_count": null,
   "id": "2c538b7d-1501-42f9-b21d-e5ced2afcefa",
   "metadata": {},
   "outputs": [],
   "source": [
    "# Versões dos pacotes usanes neste jupyter notebook\n",
    "%reload_ext watermark\n",
    "%watermark -a \"Dsa - Alvaro\" --iversions"
   ]
  },
  {
   "cell_type": "markdown",
   "id": "d3e3ea36-b92c-4ced-8a91-af356ec2534d",
   "metadata": {},
   "source": [
    "## Números e Representações\n",
    "\n",
    "Na matemátiva, uma variedade de números e suas representações são usados para diferentes propósitos. Aqui está uma lista dos tipos mais comuns de números e suas representações:\n",
    "**Números Naturais(N):** Não os números inteiros não-negativos, incluem 0, 1, 2 .. Eles são usados para contar e ordenar\n",
    "\n",
    "**Números Inteiros(Z):** Incluem todos os números naturais, seus opostos negativos e o zeros. Portanto, são ..., -1, 0, 1 ..\n",
    "\n",
    "**Números Racionais(Q):** São os números que podem ser expressos como a fração de dois numeros inteiros, onde o denominador não é zero. Incluem números como 1/2, -3/4, 5, 0.75, etc.\n",
    "\n",
    "**Números Irracionais:** São os números que não podem ser expressos como uma fração simples de dois inteiros. Incluem números como π(pi) e √2. Esses números têm uma expansão decimal infinita não periódica.\n",
    "\n",
    "**Números Reais(R):** Incluem todos os números racionais e irracionais. Os números reais podem ser representados em uma linha periódica.\n",
    "\n",
    "**Números Completos(C):** Incluem todos os números que podem ser expressos de forma a + bi, onde a e b são os numeros reais e i é a unidade imaginária. A unidade imaginária é uma extensão dos núemros reais e foi criada para solucionar equ8ações que não possuem soluções dentrod o conjunto dos núemros reais. A unidade imaginária é representada pela letra i, que é definida como a rais quadrada de -1.\n",
    "\n",
    "**Números Primos:** São números maiores que 1 que têm exatamente dois divisores distintos: 1 e eles mesmos. Ex: 2, 3, 5, 7, 11 ..\n",
    "\n",
    "Cada um desses tipos de números tem sua própria utilidade e aplicação em diferentes áreas da matemática e ciência."
   ]
  },
  {
   "cell_type": "markdown",
   "id": "4a2511e4-bab8-44ef-b3ce-40f90e701828",
   "metadata": {},
   "source": [
    "# PEMDAS\n",
    "A regra **PEMDAS** é um acrônimo usado para ajudar a lembrar a ordem das operações em matemática, que significa:\n",
    " * <i>Parênteses</i>\n",
    " * <i>Expoente (ou potências)</i>\n",
    " * <i>Multiplicação e divisão (da esqueda para a direita)</i>\n",
    " * _Adição e Subtação (Da esquerda para a direita)\n",
    "Esta regra é um guia para determinar para qual operação matemática deve ser realizada primeiro em uma expressão matemática. Aqui está como ela funciona:\n",
    " * Parênteses: Realize primeiro as operações dentro dos parênteses. Isso também se aplica a colchetes[] e chaves{}\n",
    " * Expoênte: em seguida, calcule as potências e as raízes.\n",
    " * Multiplicação e Divisão: Estas operações são realizadas da esquerda para a direita. Elas têm a mesma prioridade, o que significa que você deve fazer a que aparecer primeiro.\n",
    " * Adição e Subtação: Por último, faça as operações de adição e subtração, também da esquerda para a direita. Assim como na multiplicação e divisão, adição e subtração tem a mesma prioridade.\n",
    "\n",
    "É importante notar que, embora a regra PEMDAS seja um guia útil, ela não substitui a compreensão das propriedades matemáticas e de como as expressões são construídas e simplificadas."
   ]
  },
  {
   "cell_type": "markdown",
   "id": "8a01884a-567d-4252-8a45-b79609817f45",
   "metadata": {},
   "source": [
    "# O que são Equações?\n",
    "Equações são cálculos em que uma ou mais variáveis representam valores desconhecidos. Neste lab tu vai aprender algumas técnicas fundamentais para resolver equações usando programação.\n",
    "\n",
    "**Resolvendo Equação com 1 passo**\n",
    "Considere a seguinte equação<br>\n",
    "\\begin{equation} x + 12 = -37\\end{equation}\n",
    "\n",
    "O desafio aqui é encontrar o valor de **x** e para isso precisamos *isolar a vairiável*. Neste caso, precisamos colocar **x** em lado do sinal \"=\" e todos os outros valores para outro lado. Para isso, seguiremos estas regras.\n",
    "1.Usar operações opostas para cancelar os valores que não queremos de uma lado. Neste caso, o lado esquerdo da equação inclui uma adição de 12, então vamos cancelar isso subtraindo 12 e o lado esquerdo da esquação se torna **x + 12 -12**.\n",
    "2.O que quer que você fala de uma lado, você também deve fazer do outro lado. NEste caso, subtraimos 12 do lado esquerdo, portanto também devemos subtrair 22 do lado direito da equação, que se torna **-37-12**\n",
    "\n",
    "Nossa equação agora fica assim:\n",
    "\\begin{equation}x + 12 -12 = -37 - 12\\end{equation}\n",
    "Agora podemos calcular os vbalores em ambos os lados. Nosso lado esquerdo, 12 -12 é 0, então ficamos com:\n",
    "\\begin{equation}x = -37-12\\end{equation}\n",
    "O que produz o resultado -49. Nossa equação agora está resolvida, como pode ver aqui:\n",
    "\\begin{equation}x = -49\\end{equation}\n",
    "É sempre ujma boa prática verificar o seu resultado inserindo o valor da variável que você calculou na equação e garantindo que ele seja verdadeiro.\n",
    "Podemos fazir isto facilmente usando algum código Python simples."
   ]
  },
  {
   "cell_type": "code",
   "execution_count": 1,
   "id": "e8524946-1a9f-4d15-8dea-21959081ebb3",
   "metadata": {},
   "outputs": [],
   "source": [
    "# Atribuindo o valor a x\n",
    "x = -49"
   ]
  },
  {
   "cell_type": "code",
   "execution_count": 2,
   "id": "e867e37b-802a-4539-b204-dcd52060f192",
   "metadata": {},
   "outputs": [
    {
     "data": {
      "text/plain": [
       "True"
      ]
     },
     "execution_count": 2,
     "metadata": {},
     "output_type": "execute_result"
    }
   ],
   "source": [
    "# Comparando as expressões\n",
    "x + 12 == -37"
   ]
  },
  {
   "cell_type": "code",
   "execution_count": 3,
   "id": "c7544301-d014-48c9-b89a-96028e6ba2aa",
   "metadata": {},
   "outputs": [],
   "source": [
    "# Atribuindo valor a x\n",
    "x = 1"
   ]
  },
  {
   "cell_type": "code",
   "execution_count": 4,
   "id": "538f2dee-79e2-4ee1-996f-c11361baee6a",
   "metadata": {},
   "outputs": [
    {
     "data": {
      "text/plain": [
       "False"
      ]
     },
     "execution_count": 4,
     "metadata": {},
     "output_type": "execute_result"
    }
   ],
   "source": [
    "# Comparando as expressões\n",
    "x + 12 == -37"
   ]
  }
 ],
 "metadata": {
  "kernelspec": {
   "display_name": "Python 3 (ipykernel)",
   "language": "python",
   "name": "python3"
  },
  "language_info": {
   "codemirror_mode": {
    "name": "ipython",
    "version": 3
   },
   "file_extension": ".py",
   "mimetype": "text/x-python",
   "name": "python",
   "nbconvert_exporter": "python",
   "pygments_lexer": "ipython3",
   "version": "3.10.12"
  }
 },
 "nbformat": 4,
 "nbformat_minor": 5
}
