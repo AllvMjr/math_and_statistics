{
 "cells": [
  {
   "cell_type": "markdown",
   "metadata": {},
   "source": [
    "<!-- Projeto Desenvolvido na Data Science Academy - www.datascienceacademy.com.br -->\n",
    "# <font color='blue'>Data Science Academy</font>\n",
    "## <font color='blue'>Matemática e Estatística Aplicada Para Data Science, Machine Learning e IA</font>\n",
    "## <font color='blue'>Lista de Exercícios 1</font>\n",
    "## <font color='blue'>Matemática Fundamental com Linguagem Python</font>"
   ]
  },
  {
   "cell_type": "markdown",
   "metadata": {},
   "source": [
    "### Instalando e Carregando Pacotes"
   ]
  },
  {
   "cell_type": "code",
   "execution_count": null,
   "metadata": {},
   "outputs": [],
   "source": [
    "# Para atualizar um pacote, execute o comando abaixo no terminal ou prompt de comando:\n",
    "# pip install -U nome_pacote\n",
    "\n",
    "# Para instalar a versão exata de um pacote, execute o comando abaixo no terminal ou prompt de comando:\n",
    "# !pip install nome_pacote==versão_desejada\n",
    "\n",
    "# Depois de instalar ou atualizar o pacote, reinicie o jupyter notebook.\n",
    "\n",
    "# Instala o pacote watermark. \n",
    "# Esse pacote é usado para gravar as versões de outros pacotes usados neste jupyter notebook.\n",
    "!pip install -q -U watermark"
   ]
  },
  {
   "cell_type": "code",
   "execution_count": null,
   "metadata": {},
   "outputs": [],
   "source": [
    "# Versões dos pacotes usados neste jupyter notebook\n",
    "%reload_ext watermark\n",
    "%watermark -a \"Data Science Academy\" --iversions"
   ]
  },
  {
   "cell_type": "markdown",
   "metadata": {},
   "source": [
    "**Resolva os exercícios abaixo usando Linguagem Python. Faça pesquisa complementar se necessário.**"
   ]
  },
  {
   "cell_type": "markdown",
   "metadata": {},
   "source": [
    "### Exercício 1: Cálculo de Área de um Círculo\n",
    "\n",
    "Escreva um programa que calcula a área de um círculo. O usuário deve fornecer o raio e o programa deve retornar a área."
   ]
  },
  {
   "cell_type": "code",
   "execution_count": 6,
   "metadata": {},
   "outputs": [
    {
     "name": "stdin",
     "output_type": "stream",
     "text": [
      "Digite a área do circulo 50\n"
     ]
    },
    {
     "name": "stdout",
     "output_type": "stream",
     "text": [
      "A Area do circulo é 7853.981633974483\n"
     ]
    }
   ],
   "source": [
    "import math\n",
    "# Solicitando para pegar o dado para calculo do raio\n",
    "raio_user = float(input(\"Digite a área do circulo\"))\n",
    "\n",
    "#Calculo\n",
    "PI = math.pi\n",
    "\n",
    "area = PI * raio_user ** 2\n",
    "\n",
    "print(f'A Area do circulo é', format(area))\n"
   ]
  },
  {
   "cell_type": "markdown",
   "metadata": {},
   "source": [
    "### Exercício 2: Conversão de Temperatura\n",
    "\n",
    "Crie uma função que converte a temperatura de Celsius para Fahrenheit e vice-versa. O usuário deve informar a temperatura e a escala de origem."
   ]
  },
  {
   "cell_type": "code",
   "execution_count": 14,
   "metadata": {},
   "outputs": [
    {
     "name": "stdin",
     "output_type": "stream",
     "text": [
      "Selecione a escala de temperatura: Fahrenheit ou Celcius Celcius\n",
      "Selecione a temperatura 36\n"
     ]
    },
    {
     "name": "stdout",
     "output_type": "stream",
     "text": [
      "96.8\n"
     ]
    }
   ],
   "source": [
    "def celcius_fahre (input_data)->float:\n",
    "    if input_data is not None:\n",
    "        celcius = input_data * 1.8 + 32\n",
    "    return celcius\n",
    "\n",
    "def fahre_celcius (input_data)->float:\n",
    "    if input_data is not None:\n",
    "        fahre = (input_data - 32) / 1.8\n",
    "    return fahre\n",
    "\n",
    "escala = str(input('Selecione a escala de temperatura: Fahrenheit ou Celcius'))\n",
    "temperatura = float(input('Selecione a temperatura'))\n",
    "if escala == 'Fahrenheit':\n",
    "    retorno = fahre_celcius(temperatura)\n",
    "else:\n",
    "    retorno = celcius_fahre(temperatura)\n",
    "print(retorno)"
   ]
  },
  {
   "cell_type": "markdown",
   "metadata": {},
   "source": [
    "### Exercício 3: Resolver uma Equação Linear\n",
    "\n",
    "Faça um programa que resolve uma equação linear do tipo ax + b = 0. Os valores de a e b são fornecidos pelo usuário."
   ]
  },
  {
   "cell_type": "code",
   "execution_count": 1,
   "metadata": {},
   "outputs": [
    {
     "name": "stdin",
     "output_type": "stream",
     "text": [
      "Selecione um numero inteiro para a 54\n",
      "Selecione um numero inteiro para b 2\n"
     ]
    },
    {
     "name": "stdout",
     "output_type": "stream",
     "text": [
      "Equação a ser resolvida será ax + b = 0\n",
      "Reposta da equação é x = -0.037037037037037035\n",
      "-4.0\n"
     ]
    }
   ],
   "source": [
    "# Solicitando os dados para o usuário\n",
    "valora = int(input('Selecione um numero inteiro para a'))\n",
    "valorb = int(input('Selecione um numero inteiro para b'))\n",
    "\n",
    "print(f'Equação a ser resolvida será ax + b = 0')\n",
    "#primeiro vamos isolar a variavel x, invertendo o sinal e dividindo o valor de a\n",
    "x = -valorb / valora\n",
    "print(f'Reposta da equação é x = {x}')\n",
    "calculo = valora * x - valorb \n",
    "print(calculo)"
   ]
  },
  {
   "cell_type": "code",
   "execution_count": 2,
   "metadata": {},
   "outputs": [
    {
     "name": "stdout",
     "output_type": "stream",
     "text": [
      "A solucão da equação ax + b = 0 é x = -b/a\n"
     ]
    },
    {
     "name": "stdin",
     "output_type": "stream",
     "text": [
      "Selecione um numero inteiro para a 54\n",
      "Selecione um numero inteiro para b 2\n"
     ]
    },
    {
     "name": "stdout",
     "output_type": "stream",
     "text": [
      "A solucao da equação 54x + 2 = é -1/27\n"
     ]
    }
   ],
   "source": [
    "from sympy import symbols, Eq, solve\n",
    "\n",
    "#Definindo as variáveis\n",
    "a, b, x = symbols('a b x')\n",
    "\n",
    "#definindo a equação\n",
    "equacao = Eq(a*x + b, 0)\n",
    "\n",
    "\n",
    "#resolvendo a equação para x\n",
    "solucao = solve(equacao, x)\n",
    "\n",
    "print(f'A solucão da equação {a}x + {b} = 0 é x = {solucao[0]}')\n",
    "\n",
    "a_valor = int(input('Selecione um numero inteiro para a'))\n",
    "b_valor = int(input('Selecione um numero inteiro para b'))\n",
    "\n",
    "solucao_calculo = solucao[0].subs({a: a_valor, b: b_valor})\n",
    "print(f\"A solucao da equação {a_valor}x + {b_valor} = é {solucao_calculo}\")"
   ]
  },
  {
   "cell_type": "markdown",
   "metadata": {},
   "source": [
    "### Exercício 4: Cálculo de Média Aritmética\n",
    "\n",
    "Escreva um programa que calcula a média aritmética de uma lista de números fornecida pelo usuário."
   ]
  },
  {
   "cell_type": "code",
   "execution_count": 40,
   "metadata": {},
   "outputs": [
    {
     "name": "stdout",
     "output_type": "stream",
     "text": [
      "digitar qualquer quantidade de numeros eles quiser, colocando virtula\n"
     ]
    },
    {
     "name": "stdin",
     "output_type": "stream",
     "text": [
      "Digite os numeros desejados, colocando virgula 1,2,3,4,5,6,7,8,9\n"
     ]
    },
    {
     "name": "stdout",
     "output_type": "stream",
     "text": [
      "Soma dos numeros é: 5.0\n"
     ]
    }
   ],
   "source": [
    "# Da instrução para o usuário digitar qualquer quantidade de numeros eles quiser, colocando virtula\n",
    "print(\"digitar qualquer quantidade de numeros eles quiser, colocando virtula\")\n",
    "lista_numeros = input(\"Digite os numeros desejados, colocando virgula\")\n",
    "lista_numeros = [x for x in lista_numeros]\n",
    "inteiros = [int(x)for x in lista_numeros if x != ',']\n",
    "\n",
    "soma_numeros = sum(inteiros)\n",
    "qtd_numeros = len(inteiros)\n",
    "media = soma_numeros / qtd_numeros \n",
    "print(f'Soma dos numeros é: {media}')\n",
    "\n"
   ]
  },
  {
   "cell_type": "markdown",
   "metadata": {},
   "source": [
    "### Exercício 5: Determinar as Raízes de uma Equação Quadrática\n",
    "\n",
    "Crie um programa que encontra as raízes de uma equação quadrática do tipo ax^2 + bx + c = 0. O programa deve lidar com todos os tipos de raízes (reais e complexas)."
   ]
  },
  {
   "cell_type": "code",
   "execution_count": 5,
   "metadata": {},
   "outputs": [
    {
     "name": "stdin",
     "output_type": "stream",
     "text": [
      "Digite um número a:  45\n",
      "Digite um número b:  12\n",
      "Digite um número c:  75\n"
     ]
    },
    {
     "name": "stdout",
     "output_type": "stream",
     "text": [
      "As raízes da equação são: ((-0.13333333333333333+1.2840906856172147j), (-0.13333333333333333-1.2840906856172147j))\n"
     ]
    }
   ],
   "source": [
    "# Importa o pacote cmath\n",
    "import cmath\n",
    "\n",
    "def raizes_quadraticas(a, b, c):\n",
    "\n",
    "    #Calcula o discriminanter (delta) da equação quadrática usando a formula delta = b² - 4ac\n",
    "    # cmath.sqrt é usado para lidar com raízes quadradas de números negativos (numeros complexos)\n",
    "    delta = cmath.sqrt(b**2 - 4*a*c)\n",
    "\n",
    "    # Calcula a primeira raiz (x1) da equação quadrática usando a formulá x = (-b + sqrt(delta)) / 2a\n",
    "    x1 = (-b + delta) / (2*a)\n",
    "\n",
    "    # Calcula a segunda raiz (x2) da equação quadrática usando a formula x = (-b - sqrt(delta)) / 2a\n",
    "    x2 = (-b -delta) / (2*a)\n",
    "\n",
    "    # Retorna ambas as raízes como um par de valores\n",
    "    return (x1, x2)\n",
    "\n",
    "# Solicitando os dados do usuario sendo um numero \n",
    "a = float(input('Digite um número a: '))\n",
    "\n",
    "b = float(input('Digite um número b: '))\n",
    "\n",
    "c = float(input('Digite um número c: '))\n",
    "\n",
    "# imprime o resultado das raizes da euqação quadrática\n",
    "print(f'As raízes da equação são:', raizes_quadraticas(a, b, c))\n"
   ]
  },
  {
   "cell_type": "markdown",
   "metadata": {},
   "source": [
    "### Exercício 6: Calcular o Fatorial de um Número\n",
    "\n",
    "Escreva uma função que calcula o fatorial de um número inteiro fornecido pelo usuário."
   ]
  },
  {
   "cell_type": "code",
   "execution_count": 6,
   "metadata": {},
   "outputs": [
    {
     "name": "stdin",
     "output_type": "stream",
     "text": [
      "Digite um numero 5\n"
     ]
    },
    {
     "name": "stdout",
     "output_type": "stream",
     "text": [
      "120\n"
     ]
    }
   ],
   "source": [
    "# Solicitando a digitação do usuário\n",
    "import math\n",
    "numero = int(input('Digite um numero'))\n",
    "fatorial = math.factorial(numero)\n",
    "print(fatorial)\n"
   ]
  },
  {
   "cell_type": "markdown",
   "metadata": {},
   "source": [
    "### Exercício 7: Sequência de Fibonacci\n",
    "\n",
    "Crie um programa que gera a sequência de Fibonacci até um determinado número n fornecido pelo usuário."
   ]
  },
  {
   "cell_type": "code",
   "execution_count": 7,
   "metadata": {},
   "outputs": [
    {
     "name": "stdin",
     "output_type": "stream",
     "text": [
      "Digite qualquer numero mairo que  10\n"
     ]
    },
    {
     "name": "stdout",
     "output_type": "stream",
     "text": [
      "1 2 3 5 8 13 21 34 55 89 \n"
     ]
    }
   ],
   "source": [
    "# Solicitando o usuário numero para geração da sequencia fibonati\n",
    "numero = int(input('Digite qualquer numero mairo que '))\n",
    "\n",
    "n = numero\n",
    "num1 = 0\n",
    "num2 = 1\n",
    "next_number = num2\n",
    "count = 1\n",
    "\n",
    "while count <= n:\n",
    "    print(next_number, end=\" \")\n",
    "    count += 1\n",
    "    num1, num2 = num2, next_number\n",
    "    next_number = num1 + num2\n",
    "print()"
   ]
  },
  {
   "cell_type": "markdown",
   "metadata": {},
   "source": [
    "### Exercício 8: Cálculo de Juros Compostos\n",
    "\n",
    "Faça um programa que calcula o montante final de um investimento com juros compostos. O usuário deve fornecer o capital inicial, a taxa de juros anual, e o número de anos."
   ]
  },
  {
   "cell_type": "code",
   "execution_count": 11,
   "metadata": {},
   "outputs": [
    {
     "name": "stdin",
     "output_type": "stream",
     "text": [
      "Digite o valor do Capital Inicial que será de R$ :  10000\n",
      "Digite o valor da Rentabilidade (Taxa de juros) que será de :  5\n",
      "Digite o valor do tempo em anos, que será de :  6\n"
     ]
    },
    {
     "name": "stdout",
     "output_type": "stream",
     "text": [
      "Montante final 13400.956406250005\n"
     ]
    }
   ],
   "source": [
    "# Formula de juros compostos\n",
    "def juros_compostos (C, r, t):\n",
    "\n",
    "    # Calcula o montante final usando a formula de juros compostos = M = C * (1 + r) ^ t\n",
    "    # M = Montante\n",
    "    # C = Capital Inicial\n",
    "    # r = Rentabilidade\n",
    "    # t = Tempo\n",
    "    return C * (1 + (r / 100)) ** t\n",
    "\n",
    "# Solicta o Capital \"C\" em formato flututante\n",
    "C = float(input('Digite o valor do Capital Inicial que será de R$ : '))\n",
    "\n",
    "# Solicita o valor de rentabilidade (taxa de juros anual) que sera inteiro\n",
    "r = int(input('Digite o valor da Rentabilidade (Taxa de juros) que será de : '))\n",
    "\n",
    "# Solciita o tempo em anos para calculo\n",
    "t = int(input('Digite o valor do tempo em anos, que será de : '))\n",
    "\n",
    "print(\"Montante final\", juros_compostos(C, r, t))\n",
    "                \n"
   ]
  },
  {
   "cell_type": "markdown",
   "metadata": {},
   "source": [
    "### Exercício 9: Conversão de Moedas\n",
    "\n",
    "Escreva um programa que converte uma quantidade de uma moeda (como dólar) para outra (como euro), considerando uma taxa de câmbio fornecida pelo usuário."
   ]
  },
  {
   "cell_type": "code",
   "execution_count": 15,
   "metadata": {},
   "outputs": [
    {
     "name": "stdin",
     "output_type": "stream",
     "text": [
      "Digite o valor da moeda origina 120\n",
      "Digite a taxa de cambio 5.4\n"
     ]
    },
    {
     "name": "stdout",
     "output_type": "stream",
     "text": [
      "Valor convertido:  648.0\n"
     ]
    }
   ],
   "source": [
    "# Função para conversão\n",
    "def converte_moeda(valor, taxa_cambio):\n",
    "\n",
    "    #Multiplica o valor da moeda original pela taxa de cambio para obter o valor da moeda convertida\n",
    "    return valor * taxa_cambio\n",
    "\n",
    "# Solicita o valor da moeda original\n",
    "valor = float(input(\"Digite o valor da moeda origina\"))\n",
    "\n",
    "# Solicita a taxa de bambio para conversão\n",
    "taxa_cambio = float(input(\"Digite a taxa de cambio\"))\n",
    "\n",
    "print(\"Valor convertido: \", converte_moeda(valor, taxa_cambio))"
   ]
  },
  {
   "cell_type": "markdown",
   "metadata": {},
   "source": [
    "### Exercício 10: Verificar se um Número é Primo\n",
    "\n",
    "Crie uma função que verifica se um número fornecido pelo usuário é primo ou não."
   ]
  },
  {
   "cell_type": "code",
   "execution_count": 23,
   "metadata": {},
   "outputs": [
    {
     "name": "stdin",
     "output_type": "stream",
     "text": [
      "Digite um  numero inteiro 47\n"
     ]
    },
    {
     "name": "stdout",
     "output_type": "stream",
     "text": [
      "O numero é primo! \n"
     ]
    }
   ],
   "source": [
    "# Função para retorar numeros primos\n",
    "def primos(input_data):\n",
    "\n",
    "    #verifica se o numero é maior que dois, se for menor, não é primo\n",
    "    if input_data < 2:\n",
    "        return False\n",
    "\n",
    "    # PErcorre os números de 2 até a raíz quadrada do nũmero (arrendondando para cima).\n",
    "    # Esta otimização é possível porque se um nũmero tem um divisor maior que sua raiz quadrada\n",
    "    # então ele também deve ter um divisor menor que a raiz raquadra\n",
    "    for i in range(2, int(input_data**0.5) + 1):\n",
    "\n",
    "        #Se o numero for divisivel por i, então ele não é primo\n",
    "        if input_data % i == 0:\n",
    "            return False\n",
    "\n",
    "    # SE o loop for concluido sem encontrar divisores, o numero é primo\n",
    "    return True\n",
    "\n",
    "# Pede ao usuario para digitar um número inteiro\n",
    "numero = int(input(\"Digite um  numero inteiro\"))\n",
    "\n",
    "# Imprime se o número é primo ou não\n",
    "print(\"O numero é primo! \" if primos(numero) else \"O número não é primo\")"
   ]
  },
  {
   "cell_type": "code",
   "execution_count": null,
   "metadata": {},
   "outputs": [],
   "source": [
    "%reload_ext watermark\n",
    "%watermark -a \"Data Science Academy\""
   ]
  },
  {
   "cell_type": "code",
   "execution_count": null,
   "metadata": {},
   "outputs": [],
   "source": [
    "#%watermark -v -m"
   ]
  },
  {
   "cell_type": "markdown",
   "metadata": {},
   "source": [
    "# Fim"
   ]
  }
 ],
 "metadata": {
  "kernelspec": {
   "display_name": "Python 3 (ipykernel)",
   "language": "python",
   "name": "python3"
  },
  "language_info": {
   "codemirror_mode": {
    "name": "ipython",
    "version": 3
   },
   "file_extension": ".py",
   "mimetype": "text/x-python",
   "name": "python",
   "nbconvert_exporter": "python",
   "pygments_lexer": "ipython3",
   "version": "3.10.12"
  }
 },
 "nbformat": 4,
 "nbformat_minor": 4
}
