{
 "cells": [
  {
   "cell_type": "markdown",
   "metadata": {},
   "source": [
    "<!-- Projeto Desenvolvido na Data Science Academy - www.datascienceacademy.com.br -->\n",
    "# <font color='blue'>Data Science Academy</font>\n",
    "## <font color='blue'>Matemática e Estatística Aplicada Para Data Science, Machine Learning e IA</font>\n",
    "## <font color='blue'>Lista de Exercícios 2</font>\n",
    "## <font color='blue'>Resolvendo Equações Quadráticas, Funções e Logaritmos com Python</font>"
   ]
  },
  {
   "cell_type": "markdown",
   "metadata": {},
   "source": [
    "### Instalando e Carregando Pacotes"
   ]
  },
  {
   "cell_type": "code",
   "execution_count": null,
   "metadata": {},
   "outputs": [],
   "source": [
    "# Para atualizar um pacote, execute o comando abaixo no terminal ou prompt de comando:\n",
    "# pip install -U nome_pacote\n",
    "\n",
    "# Para instalar a versão exata de um pacote, execute o comando abaixo no terminal ou prompt de comando:\n",
    "# !pip install nome_pacote==versão_desejada\n",
    "\n",
    "# Depois de instalar ou atualizar o pacote, reinicie o jupyter notebook.\n",
    "\n",
    "# Instala o pacote watermark. \n",
    "# Esse pacote é usado para gravar as versões de outros pacotes usados neste jupyter notebook.\n",
    "!pip install -q -U watermark"
   ]
  },
  {
   "cell_type": "code",
   "execution_count": null,
   "metadata": {},
   "outputs": [],
   "source": [
    "# Versões dos pacotes usados neste jupyter notebook\n",
    "%reload_ext watermark\n",
    "%watermark -a \"Data Science Academy\" --iversions"
   ]
  },
  {
   "cell_type": "markdown",
   "metadata": {},
   "source": [
    "**Resolva os exercícios abaixo usando Linguagem Python. Faça pesquisa complementar se necessário.**"
   ]
  },
  {
   "cell_type": "markdown",
   "metadata": {},
   "source": [
    "### Exercício 1: Gráfico de Uma Função Linear\n",
    "\n",
    "Crie um gráfico para a função y = 2x + 3 para valores de x no intervalo de 5 a 10."
   ]
  },
  {
   "cell_type": "code",
   "execution_count": null,
   "metadata": {},
   "outputs": [],
   "source": [
    "#importações\n",
    "import numpy as np\n",
    "import matplotlib.pyplot as plt\n",
    "\n",
    "x = np.linspace(5, 10, 400)\n",
    "y = 2 * x + 3\n",
    "\n",
    "# Criando o gráfico\n",
    "plt.plot(x, y, label = 'y = 2x + 3')\n",
    "\n",
    "# Adicionando o tútlo e rótulos\n",
    "plt.title('Grádico função linear y = 2x + 3')\n",
    "plt.xlabel('X')\n",
    "plt.ylabel('Y')\n",
    "plt.legend()\n",
    "\n",
    "# plota o gŕafico\n",
    "plt.grid(True)\n",
    "plt.show()\n",
    "\n"
   ]
  },
  {
   "cell_type": "markdown",
   "metadata": {},
   "source": [
    "### Exercício 2: Gráfico de uma Função Quadrática\n",
    "\n",
    "Desenhe o gráfico da função y = x^2 - 4x + 4. Crie uma massa de dados de exemplo usando np.linspace()."
   ]
  },
  {
   "cell_type": "code",
   "execution_count": null,
   "metadata": {},
   "outputs": [],
   "source": [
    "import numpy as np\n",
    "import matplotlib.pyplot as plt\n",
    "\n",
    "x = np.linspace(-10, 10, 400)\n",
    "y = x**2 - 4*x + 4\n",
    "\n",
    "# Criando o gráfico\n",
    "plt.plot(x, y, label = 'y = x^2 - 4x + 4')\n",
    "\n",
    "# Adicionando o tútlo e rótulos\n",
    "plt.title('Grádico função linear y = x^2 - 4x + 4')\n",
    "plt.xlabel('X')\n",
    "plt.ylabel('Y')\n",
    "plt.legend()\n",
    "\n",
    "# plota o gŕafico\n",
    "plt.grid(True)\n",
    "plt.show()"
   ]
  },
  {
   "cell_type": "markdown",
   "metadata": {},
   "source": [
    "### Exercício 3: Gráfico de Uma Função Senoidal\n",
    "\n",
    "Crie um gráfico da função y = sin(x) para valores de x no intervalo de 0 a 2π."
   ]
  },
  {
   "cell_type": "code",
   "execution_count": null,
   "metadata": {},
   "outputs": [],
   "source": [
    "import numpy as np\n",
    "import matplotlib.pyplot as plt\n",
    "import math\n",
    "\n",
    "x = np.linspace(0, 2*np.pi, 400)\n",
    "#y = np.vectorize(math.sin)(x)\n",
    "y = np.sin(x)\n",
    "\n",
    "# Criando o gráfico\n",
    "plt.plot(x, y, label = 'y = sin(x)')\n",
    "\n",
    "# Adicionando o tútlo e rótulos\n",
    "plt.title('Grádico função linear y = sin(x)')\n",
    "plt.xlabel('X')\n",
    "plt.ylabel('Y')\n",
    "plt.legend()\n",
    "\n",
    "# plota o gŕafico\n",
    "plt.grid(True)\n",
    "plt.show()"
   ]
  },
  {
   "cell_type": "markdown",
   "metadata": {},
   "source": [
    "### Exercício 4: Gráfico de Uma Função Exponencial\n",
    "\n",
    "Crie um gráfico para a função y = e^x para valores de x no intervalo de -2 a 2."
   ]
  },
  {
   "cell_type": "code",
   "execution_count": null,
   "metadata": {},
   "outputs": [],
   "source": [
    "import numpy as np\n",
    "import matplotlib.pyplot as plt\n",
    "import math\n",
    "\n",
    "x = np.linspace(-2, 2, 100)\n",
    "#y = math.e**x\n",
    "y = np.exp(x)\n",
    "\n",
    "\n",
    "# Criando o gráfico\n",
    "plt.plot(x, y, label = 'y = e²')\n",
    "\n",
    "# Adicionando o tútlo e rótulos\n",
    "plt.title('Grádico função linear y = e²')\n",
    "plt.xlabel('X')\n",
    "plt.ylabel('Y')\n",
    "plt.legend()\n",
    "\n",
    "# plota o gŕafico\n",
    "plt.grid(True)\n",
    "plt.show()"
   ]
  },
  {
   "cell_type": "markdown",
   "metadata": {},
   "source": [
    "### Exercício 5: Gráfico de uma Função Logarítmica: \n",
    "\n",
    "Desenhe o gráfico de y = log(x) (logaritmo natural) para valores de x no intervalo de 0.1 a 10."
   ]
  },
  {
   "cell_type": "code",
   "execution_count": null,
   "metadata": {},
   "outputs": [],
   "source": [
    "import numpy as np\n",
    "import matplotlib.pyplot as plt\n",
    "import math\n",
    "\n",
    "x = np.linspace(0.1, 10, 100)\n",
    "#y = np.vectorize(math.log)(x)\n",
    "y = np.log(x)\n",
    "\n",
    "# Criando o gráfico\n",
    "plt.plot(x, y, label = 'y = log(x)')\n",
    "\n",
    "# Adicionando o tútlo e rótulos\n",
    "plt.title('Grádico função linear y = log(x)')\n",
    "plt.xlabel('X')\n",
    "plt.ylabel('Y')\n",
    "plt.legend()\n",
    "\n",
    "# plota o gŕafico\n",
    "plt.grid(True)\n",
    "plt.show()"
   ]
  },
  {
   "cell_type": "markdown",
   "metadata": {},
   "source": [
    "### Exercício 6: Resolver uma Equação Quadrática\n",
    "\n",
    "Escreva um script em Python que resolve a equação x^2 − 5x + 6 = 0 e imprime as raízes."
   ]
  },
  {
   "cell_type": "code",
   "execution_count": null,
   "metadata": {},
   "outputs": [],
   "source": [
    "from sympy import symbols, Eq, solve\n",
    "\n",
    "#Defino a vbariavel\n",
    "x = symbols('x')\n",
    "\n",
    "# Definindo a equação\n",
    "eq = Eq(x**2 - 5*x + 6, 0)\n",
    "\n",
    "#Resolvendo\n",
    "res = solve(eq, x)\n",
    "\n",
    "print(res)"
   ]
  },
  {
   "cell_type": "code",
   "execution_count": null,
   "metadata": {},
   "outputs": [],
   "source": [
    "# Resolução usando cmath\n",
    "import cmath # Usado para calculos complexos\n",
    "def res_eq_qrd(a, b, c):\n",
    "    # Resolver uma equação quadrática com essaforma ax² + bx + c = 0\n",
    "\n",
    "    #Calculo de discriminnate\n",
    "    delta = (b**2) - 4*(a*c)\n",
    "\n",
    "    # Calculo das raizes \n",
    "    x1 = (-b - cmath.sqrt(delta)) / (2*a)\n",
    "    x2 = (-b + cmath.sqrt(delta)) / (2*a)\n",
    "\n",
    "    return x1, x2\n",
    "\n",
    "# Definindo os coeficientes da equação\n",
    "a = 1\n",
    "b = -5\n",
    "c = 6\n",
    "\n",
    "# Resolvendo\n",
    "raiz1, raiz2 = res_eq_qrd(a, b, c)\n",
    "print(f\"{raiz1} e {raiz2}\")"
   ]
  },
  {
   "cell_type": "markdown",
   "metadata": {},
   "source": [
    "### Exercício 7: Equação Quadrática com Entrada do Usuário\n",
    "\n",
    "Modifique o programa anterior para aceitar coeficientes a, b, e c de um usuário e resolver a equação quadrática correspondente."
   ]
  },
  {
   "cell_type": "code",
   "execution_count": null,
   "metadata": {},
   "outputs": [],
   "source": [
    "from sympy import symbols, Eq, solve\n",
    "from sympy.abc import x\n",
    "\n",
    "\n",
    "a = int(input('Digite um numero para a: '))\n",
    "b = int(input('Digite um numero para b: '))\n",
    "c = int(input('Digite um numero para b: '))\n",
    "\n",
    "#Defino a vbariavel\n",
    "x = symbols('x')\n",
    "\n",
    "# Definindo a equação\n",
    "eq = Eq(x**a - b*x + c, 0)\n",
    "\n",
    "#Resolvendo\n",
    "res = solve(eq, x, dict=True)\n",
    "\n",
    "print(res)"
   ]
  },
  {
   "cell_type": "code",
   "execution_count": null,
   "metadata": {},
   "outputs": [],
   "source": [
    "# Resolução usando cmath\n",
    "import cmath # Usado para calculos complexos\n",
    "def res_eq_qrd(a, b, c):\n",
    "    # Resolver uma equação quadrática com essaforma ax² + bx + c = 0\n",
    "\n",
    "    #Calculo de discriminnate\n",
    "    delta = (b**2) - 4*(a*c)\n",
    "\n",
    "    # Calculo das raizes \n",
    "    x1 = (-b - cmath.sqrt(delta)) / (2*a)\n",
    "    x2 = (-b + cmath.sqrt(delta)) / (2*a)\n",
    "\n",
    "    return x1, x2\n",
    "\n",
    "# Definindo os coeficientes da equação\n",
    "a = int(input('Digite um numero para a: '))\n",
    "b = int(input('Digite um numero para b: '))\n",
    "c = int(input('Digite um numero para b: '))\n",
    "\n",
    "# Resolvendo\n",
    "raiz1, raiz2 = res_eq_qrd(a, b, c)\n",
    "print(f\"{raiz1} e {raiz2}\")"
   ]
  },
  {
   "cell_type": "markdown",
   "metadata": {},
   "source": [
    "### Exercício 8: Equação Quadrática com Discriminante\n",
    "\n",
    "Para a equação quadrática ax^2 + bx + c = 0, calcule o discriminante e determine o número de raízes reais."
   ]
  },
  {
   "cell_type": "code",
   "execution_count": null,
   "metadata": {},
   "outputs": [],
   "source": [
    "# Definindo os coeficientes da equação\n",
    "a = int(input('Digite um numero para a: '))\n",
    "b = int(input('Digite um numero para b: '))\n",
    "c = int(input('Digite um numero para b: '))\n",
    "\n",
    "#Calculo de discriminnate\n",
    "delta = (b**2) - 4*(a*c)\n",
    "\n",
    "if delta > 0:\n",
    "    print('Duas raizes reais e distintas')\n",
    "elif delta == 0:\n",
    "    print(\"Uma rais real dupla\")\n",
    "else:\n",
    "    print(\"Nenhuma rais real\")"
   ]
  },
  {
   "cell_type": "markdown",
   "metadata": {},
   "source": [
    "### Exercício 9: Cálculo de Logaritmos\n",
    "\n",
    "Escreva um script que calcula o logaritmo de base 10 de um número fornecido pelo usuário. Certifique-se de tratar o caso em que o logaritmo não pode ser definido (números negativos e zero)."
   ]
  },
  {
   "cell_type": "code",
   "execution_count": null,
   "metadata": {},
   "outputs": [],
   "source": [
    "import math\n",
    "\n",
    "num = float(input('Digite um numero: '))\n",
    "\n",
    "if num > 0:\n",
    "    log_value = math.log10(num)\n",
    "    print(f\"Logaritomo de base 10 de {num} é {log_value}\")\n",
    "else:\n",
    "    print(\"Logaritmo não definido para núemros negativos ou zero\")"
   ]
  },
  {
   "cell_type": "markdown",
   "metadata": {},
   "source": [
    "### Exercício 10: Aplicação de Logaritmos\n",
    "\n",
    "Utilize logaritmo para calcular o tempo necessário para que um investimento atinja um determinado valor, considerando uma taxa de crescimento contínua."
   ]
  },
  {
   "cell_type": "code",
   "execution_count": 5,
   "metadata": {},
   "outputs": [
    {
     "name": "stdout",
     "output_type": "stream",
     "text": [
      "Tempo necessário para dobrar o investimento: 2.6419267958111403 anos\n"
     ]
    }
   ],
   "source": [
    "import math\n",
    "# Calculando o tempo necessário para dobrar um investimento com juros compostos\n",
    "valor_inicial = float(input('Digite o valor inicial do investimento: '))\n",
    "\n",
    "taxa_juros = float(input('Digite a taxa de juros anual: '))\n",
    "taxa_juros = taxa_juros / 100\n",
    "\n",
    "tempo = math.log(2) / math.log(1 + taxa_juros)\n",
    "print(f\"Tempo necessário para dobrar o investimento: {tempo} anos\")"
   ]
  },
  {
   "cell_type": "code",
   "execution_count": null,
   "metadata": {},
   "outputs": [],
   "source": [
    "%reload_ext watermark\n",
    "%watermark -a \"Data Science Academy\""
   ]
  },
  {
   "cell_type": "code",
   "execution_count": null,
   "metadata": {},
   "outputs": [],
   "source": [
    "#%watermark -v -m"
   ]
  },
  {
   "cell_type": "markdown",
   "metadata": {},
   "source": [
    "# Fim"
   ]
  }
 ],
 "metadata": {
  "kernelspec": {
   "display_name": "Python 3",
   "language": "python",
   "name": "python3"
  },
  "language_info": {
   "codemirror_mode": {
    "name": "ipython",
    "version": 3
   },
   "file_extension": ".py",
   "mimetype": "text/x-python",
   "name": "python",
   "nbconvert_exporter": "python",
   "pygments_lexer": "ipython3",
   "version": "3.10.12"
  }
 },
 "nbformat": 4,
 "nbformat_minor": 4
}
